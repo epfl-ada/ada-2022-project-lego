{
  "cells": [
    {
      "cell_type": "markdown",
      "metadata": {
        "id": "8EH3Px0U5_ZV"
      },
      "source": [
        "## ADA Project Milestone 2"
      ]
    },
    {
      "cell_type": "markdown",
      "metadata": {
        "id": "b31pCJvSlYJo"
      },
      "source": [
        "### 1. Data cleaning, augmentation and initial preprocessing"
      ]
    },
    {
      "cell_type": "code",
      "execution_count": 3,
      "metadata": {
        "id": "eCtVcVY86VCV"
      },
      "outputs": [],
      "source": [
        "import pandas as pd\n",
        "import numpy as np\n",
        "import matplotlib.pyplot as plt\n",
        "%matplotlib inline\n",
        "import seaborn as sns\n",
        "import math\n",
        "\n",
        "data_folder = '../data/'\n",
        "movie_metadata_fn = 'MovieSummaries/movie.metadata.tsv'\n",
        "plot_summaries_fn = 'MovieSummaries/plot_summaries.txt'\n",
        "character_metadata_fn = 'MovieSummaries/character.metadata.tsv'\n",
        "\n",
        "CPI_values = 'CPI.csv'\n",
        "tmdb_data_fn = 'details_tmdb_u.csv'\n",
        "imdb_data_sample_fn = 'details_imdb_sample.csv'\n"
      ]
    },
    {
      "cell_type": "code",
      "execution_count": 4,
      "metadata": {
        "id": "8WUlcWgZKmNo"
      },
      "outputs": [],
      "source": [
        "# load used dfs\n",
        "movie_meta_orig = pd.read_csv(data_folder+movie_metadata_fn, sep='\\t', header=None)\n",
        "movie_sums_orig = pd.read_csv(data_folder+plot_summaries_fn, sep='\\t', header=None)\n",
        "\n",
        "imdb_data = pd.read_csv(data_folder+imdb_data_sample_fn)\n",
        "tmdb_data = pd.read_csv(data_folder+tmdb_data_fn)"
      ]
    },
    {
      "cell_type": "code",
      "execution_count": 6,
      "metadata": {
        "colab": {
          "base_uri": "https://localhost:8080/",
          "height": 206
        },
        "id": "WrrTGV77TWNZ",
        "outputId": "15cff739-380b-475a-851e-fced22b46b31"
      },
      "outputs": [
        {
          "data": {
            "text/html": [
              "<div>\n",
              "<style scoped>\n",
              "    .dataframe tbody tr th:only-of-type {\n",
              "        vertical-align: middle;\n",
              "    }\n",
              "\n",
              "    .dataframe tbody tr th {\n",
              "        vertical-align: top;\n",
              "    }\n",
              "\n",
              "    .dataframe thead th {\n",
              "        text-align: right;\n",
              "    }\n",
              "</style>\n",
              "<table border=\"1\" class=\"dataframe\">\n",
              "  <thead>\n",
              "    <tr style=\"text-align: right;\">\n",
              "      <th></th>\n",
              "      <th>0</th>\n",
              "      <th>1</th>\n",
              "      <th>2</th>\n",
              "      <th>3</th>\n",
              "      <th>4</th>\n",
              "      <th>5</th>\n",
              "      <th>6</th>\n",
              "      <th>7</th>\n",
              "      <th>8</th>\n",
              "    </tr>\n",
              "  </thead>\n",
              "  <tbody>\n",
              "    <tr>\n",
              "      <th>0</th>\n",
              "      <td>975900</td>\n",
              "      <td>/m/03vyhn</td>\n",
              "      <td>Ghosts of Mars</td>\n",
              "      <td>2001-08-24</td>\n",
              "      <td>14010832.0</td>\n",
              "      <td>98.0</td>\n",
              "      <td>{\"/m/02h40lc\": \"English Language\"}</td>\n",
              "      <td>{\"/m/09c7w0\": \"United States of America\"}</td>\n",
              "      <td>{\"/m/01jfsb\": \"Thriller\", \"/m/06n90\": \"Science...</td>\n",
              "    </tr>\n",
              "    <tr>\n",
              "      <th>1</th>\n",
              "      <td>3196793</td>\n",
              "      <td>/m/08yl5d</td>\n",
              "      <td>Getting Away with Murder: The JonBenét Ramsey ...</td>\n",
              "      <td>2000-02-16</td>\n",
              "      <td>NaN</td>\n",
              "      <td>95.0</td>\n",
              "      <td>{\"/m/02h40lc\": \"English Language\"}</td>\n",
              "      <td>{\"/m/09c7w0\": \"United States of America\"}</td>\n",
              "      <td>{\"/m/02n4kr\": \"Mystery\", \"/m/03bxz7\": \"Biograp...</td>\n",
              "    </tr>\n",
              "    <tr>\n",
              "      <th>2</th>\n",
              "      <td>28463795</td>\n",
              "      <td>/m/0crgdbh</td>\n",
              "      <td>Brun bitter</td>\n",
              "      <td>1988</td>\n",
              "      <td>NaN</td>\n",
              "      <td>83.0</td>\n",
              "      <td>{\"/m/05f_3\": \"Norwegian Language\"}</td>\n",
              "      <td>{\"/m/05b4w\": \"Norway\"}</td>\n",
              "      <td>{\"/m/0lsxr\": \"Crime Fiction\", \"/m/07s9rl0\": \"D...</td>\n",
              "    </tr>\n",
              "    <tr>\n",
              "      <th>3</th>\n",
              "      <td>9363483</td>\n",
              "      <td>/m/0285_cd</td>\n",
              "      <td>White Of The Eye</td>\n",
              "      <td>1987</td>\n",
              "      <td>NaN</td>\n",
              "      <td>110.0</td>\n",
              "      <td>{\"/m/02h40lc\": \"English Language\"}</td>\n",
              "      <td>{\"/m/07ssc\": \"United Kingdom\"}</td>\n",
              "      <td>{\"/m/01jfsb\": \"Thriller\", \"/m/0glj9q\": \"Erotic...</td>\n",
              "    </tr>\n",
              "    <tr>\n",
              "      <th>4</th>\n",
              "      <td>261236</td>\n",
              "      <td>/m/01mrr1</td>\n",
              "      <td>A Woman in Flames</td>\n",
              "      <td>1983</td>\n",
              "      <td>NaN</td>\n",
              "      <td>106.0</td>\n",
              "      <td>{\"/m/04306rv\": \"German Language\"}</td>\n",
              "      <td>{\"/m/0345h\": \"Germany\"}</td>\n",
              "      <td>{\"/m/07s9rl0\": \"Drama\"}</td>\n",
              "    </tr>\n",
              "  </tbody>\n",
              "</table>\n",
              "</div>"
            ],
            "text/plain": [
              "          0           1                                                  2  \\\n",
              "0    975900   /m/03vyhn                                     Ghosts of Mars   \n",
              "1   3196793   /m/08yl5d  Getting Away with Murder: The JonBenét Ramsey ...   \n",
              "2  28463795  /m/0crgdbh                                        Brun bitter   \n",
              "3   9363483  /m/0285_cd                                   White Of The Eye   \n",
              "4    261236   /m/01mrr1                                  A Woman in Flames   \n",
              "\n",
              "            3           4      5                                   6  \\\n",
              "0  2001-08-24  14010832.0   98.0  {\"/m/02h40lc\": \"English Language\"}   \n",
              "1  2000-02-16         NaN   95.0  {\"/m/02h40lc\": \"English Language\"}   \n",
              "2        1988         NaN   83.0  {\"/m/05f_3\": \"Norwegian Language\"}   \n",
              "3        1987         NaN  110.0  {\"/m/02h40lc\": \"English Language\"}   \n",
              "4        1983         NaN  106.0   {\"/m/04306rv\": \"German Language\"}   \n",
              "\n",
              "                                           7  \\\n",
              "0  {\"/m/09c7w0\": \"United States of America\"}   \n",
              "1  {\"/m/09c7w0\": \"United States of America\"}   \n",
              "2                     {\"/m/05b4w\": \"Norway\"}   \n",
              "3             {\"/m/07ssc\": \"United Kingdom\"}   \n",
              "4                    {\"/m/0345h\": \"Germany\"}   \n",
              "\n",
              "                                                   8  \n",
              "0  {\"/m/01jfsb\": \"Thriller\", \"/m/06n90\": \"Science...  \n",
              "1  {\"/m/02n4kr\": \"Mystery\", \"/m/03bxz7\": \"Biograp...  \n",
              "2  {\"/m/0lsxr\": \"Crime Fiction\", \"/m/07s9rl0\": \"D...  \n",
              "3  {\"/m/01jfsb\": \"Thriller\", \"/m/0glj9q\": \"Erotic...  \n",
              "4                            {\"/m/07s9rl0\": \"Drama\"}  "
            ]
          },
          "execution_count": 6,
          "metadata": {},
          "output_type": "execute_result"
        }
      ],
      "source": [
        "movie_meta_orig.head()"
      ]
    },
    {
      "cell_type": "code",
      "execution_count": 7,
      "metadata": {
        "colab": {
          "base_uri": "https://localhost:8080/",
          "height": 206
        },
        "id": "tX8FpTaqdFL_",
        "outputId": "57d05ad4-585d-4da5-ee6c-85725381aaef"
      },
      "outputs": [
        {
          "data": {
            "text/html": [
              "<div>\n",
              "<style scoped>\n",
              "    .dataframe tbody tr th:only-of-type {\n",
              "        vertical-align: middle;\n",
              "    }\n",
              "\n",
              "    .dataframe tbody tr th {\n",
              "        vertical-align: top;\n",
              "    }\n",
              "\n",
              "    .dataframe thead th {\n",
              "        text-align: right;\n",
              "    }\n",
              "</style>\n",
              "<table border=\"1\" class=\"dataframe\">\n",
              "  <thead>\n",
              "    <tr style=\"text-align: right;\">\n",
              "      <th></th>\n",
              "      <th>0</th>\n",
              "      <th>1</th>\n",
              "    </tr>\n",
              "  </thead>\n",
              "  <tbody>\n",
              "    <tr>\n",
              "      <th>0</th>\n",
              "      <td>23890098</td>\n",
              "      <td>Shlykov, a hard-working taxi driver and Lyosha...</td>\n",
              "    </tr>\n",
              "    <tr>\n",
              "      <th>1</th>\n",
              "      <td>31186339</td>\n",
              "      <td>The nation of Panem consists of a wealthy Capi...</td>\n",
              "    </tr>\n",
              "    <tr>\n",
              "      <th>2</th>\n",
              "      <td>20663735</td>\n",
              "      <td>Poovalli Induchoodan  is sentenced for six yea...</td>\n",
              "    </tr>\n",
              "    <tr>\n",
              "      <th>3</th>\n",
              "      <td>2231378</td>\n",
              "      <td>The Lemon Drop Kid , a New York City swindler,...</td>\n",
              "    </tr>\n",
              "    <tr>\n",
              "      <th>4</th>\n",
              "      <td>595909</td>\n",
              "      <td>Seventh-day Adventist Church pastor Michael Ch...</td>\n",
              "    </tr>\n",
              "  </tbody>\n",
              "</table>\n",
              "</div>"
            ],
            "text/plain": [
              "          0                                                  1\n",
              "0  23890098  Shlykov, a hard-working taxi driver and Lyosha...\n",
              "1  31186339  The nation of Panem consists of a wealthy Capi...\n",
              "2  20663735  Poovalli Induchoodan  is sentenced for six yea...\n",
              "3   2231378  The Lemon Drop Kid , a New York City swindler,...\n",
              "4    595909  Seventh-day Adventist Church pastor Michael Ch..."
            ]
          },
          "execution_count": 7,
          "metadata": {},
          "output_type": "execute_result"
        }
      ],
      "source": [
        "movie_sums_orig.head()"
      ]
    },
    {
      "cell_type": "code",
      "execution_count": 8,
      "metadata": {
        "id": "QMgVjlwgdHJO"
      },
      "outputs": [],
      "source": [
        "# lets merge the dataframes to have only the movies with summaries\n",
        "movie_df_orig = movie_meta_orig.merge(movie_sums_orig, on=0)"
      ]
    },
    {
      "cell_type": "code",
      "execution_count": 9,
      "metadata": {
        "colab": {
          "base_uri": "https://localhost:8080/"
        },
        "id": "kfMd-DQFdWDT",
        "outputId": "d0d6225f-b0e3-4209-f033-986967771244"
      },
      "outputs": [
        {
          "name": "stdout",
          "output_type": "stream",
          "text": [
            "81741 42303 42204\n"
          ]
        }
      ],
      "source": [
        "print(movie_meta_orig.shape[0], movie_sums_orig.shape[0],movie_df_orig.shape[0] )"
      ]
    },
    {
      "cell_type": "code",
      "execution_count": 10,
      "metadata": {
        "colab": {
          "base_uri": "https://localhost:8080/"
        },
        "id": "i2r3WW1ZKaOX",
        "outputId": "7fdde084-4bc8-4017-a05a-e2593d0c3830"
      },
      "outputs": [
        {
          "data": {
            "text/plain": [
              "7587"
            ]
          },
          "execution_count": 10,
          "metadata": {},
          "output_type": "execute_result"
        }
      ],
      "source": [
        "# total movies with revenues\n",
        "movie_df_orig[4].notna().sum()"
      ]
    },
    {
      "cell_type": "code",
      "execution_count": 11,
      "metadata": {
        "id": "eUmDExBWKlJ2"
      },
      "outputs": [],
      "source": [
        "#remove mistake in date of one movie\n",
        "movie_df_orig.at[32434, 3] = pd.to_datetime('2010') "
      ]
    },
    {
      "cell_type": "code",
      "execution_count": 12,
      "metadata": {
        "id": "Nyn6N79IfhAe"
      },
      "outputs": [],
      "source": [
        "movie_df_orig= movie_df_orig[[2,3,4,'1_y']]"
      ]
    },
    {
      "cell_type": "code",
      "execution_count": 13,
      "metadata": {
        "colab": {
          "base_uri": "https://localhost:8080/",
          "height": 206
        },
        "id": "pSHPagRYdz2Z",
        "outputId": "42ea361d-cfc7-49ec-af7a-c55a8f2a3b63"
      },
      "outputs": [
        {
          "data": {
            "text/html": [
              "<div>\n",
              "<style scoped>\n",
              "    .dataframe tbody tr th:only-of-type {\n",
              "        vertical-align: middle;\n",
              "    }\n",
              "\n",
              "    .dataframe tbody tr th {\n",
              "        vertical-align: top;\n",
              "    }\n",
              "\n",
              "    .dataframe thead th {\n",
              "        text-align: right;\n",
              "    }\n",
              "</style>\n",
              "<table border=\"1\" class=\"dataframe\">\n",
              "  <thead>\n",
              "    <tr style=\"text-align: right;\">\n",
              "      <th></th>\n",
              "      <th>name</th>\n",
              "      <th>r_date</th>\n",
              "      <th>revenue</th>\n",
              "      <th>plot</th>\n",
              "    </tr>\n",
              "  </thead>\n",
              "  <tbody>\n",
              "    <tr>\n",
              "      <th>0</th>\n",
              "      <td>Ghosts of Mars</td>\n",
              "      <td>2001-08-24</td>\n",
              "      <td>14010832.0</td>\n",
              "      <td>Set in the second half of the 22nd century, th...</td>\n",
              "    </tr>\n",
              "    <tr>\n",
              "      <th>1</th>\n",
              "      <td>White Of The Eye</td>\n",
              "      <td>1987</td>\n",
              "      <td>NaN</td>\n",
              "      <td>A series of murders of rich young women throug...</td>\n",
              "    </tr>\n",
              "    <tr>\n",
              "      <th>2</th>\n",
              "      <td>A Woman in Flames</td>\n",
              "      <td>1983</td>\n",
              "      <td>NaN</td>\n",
              "      <td>Eva, an upper class housewife, becomes frustra...</td>\n",
              "    </tr>\n",
              "    <tr>\n",
              "      <th>3</th>\n",
              "      <td>The Sorcerer's Apprentice</td>\n",
              "      <td>2002</td>\n",
              "      <td>NaN</td>\n",
              "      <td>Every hundred years, the evil Morgana  returns...</td>\n",
              "    </tr>\n",
              "    <tr>\n",
              "      <th>4</th>\n",
              "      <td>Little city</td>\n",
              "      <td>1997-04-04</td>\n",
              "      <td>NaN</td>\n",
              "      <td>Adam, a San Francisco-based artist who works a...</td>\n",
              "    </tr>\n",
              "  </tbody>\n",
              "</table>\n",
              "</div>"
            ],
            "text/plain": [
              "                        name      r_date     revenue  \\\n",
              "0             Ghosts of Mars  2001-08-24  14010832.0   \n",
              "1           White Of The Eye        1987         NaN   \n",
              "2          A Woman in Flames        1983         NaN   \n",
              "3  The Sorcerer's Apprentice        2002         NaN   \n",
              "4                Little city  1997-04-04         NaN   \n",
              "\n",
              "                                                plot  \n",
              "0  Set in the second half of the 22nd century, th...  \n",
              "1  A series of murders of rich young women throug...  \n",
              "2  Eva, an upper class housewife, becomes frustra...  \n",
              "3  Every hundred years, the evil Morgana  returns...  \n",
              "4  Adam, a San Francisco-based artist who works a...  "
            ]
          },
          "execution_count": 13,
          "metadata": {},
          "output_type": "execute_result"
        }
      ],
      "source": [
        "movie_df_orig.columns = ['name', 'r_date', 'revenue', 'plot']\n",
        "movie_df_orig.head()\n"
      ]
    },
    {
      "cell_type": "code",
      "execution_count": 14,
      "metadata": {
        "id": "GX9Ud-hWWLRn"
      },
      "outputs": [],
      "source": [
        "movie_df_orig['r_date'] = pd.to_datetime(movie_df_orig['r_date'])"
      ]
    },
    {
      "cell_type": "code",
      "execution_count": 15,
      "metadata": {
        "colab": {
          "base_uri": "https://localhost:8080/",
          "height": 296
        },
        "id": "5t7WLA_kWUaH",
        "outputId": "8d338cf7-2590-44ca-9302-4cc6cc63abff"
      },
      "outputs": [
        {
          "data": {
            "text/plain": [
              "Text(0, 0.5, 'num_movies')"
            ]
          },
          "execution_count": 15,
          "metadata": {},
          "output_type": "execute_result"
        },
        {
          "data": {
            "image/png": "[encoded data removed]",
            "text/plain": [
              "<Figure size 432x288 with 1 Axes>"
            ]
          },
          "metadata": {
            "needs_background": "light"
          },
          "output_type": "display_data"
        }
      ],
      "source": [
        "# distribution of movies in years\n",
        "movie_df_orig['r_date'].dropna().hist(bins=movie_df_orig['r_date'].dropna().max().year - movie_df_orig['r_date'].dropna().min().year)\n",
        "plt.xlabel('year')\n",
        "plt.ylabel('num_movies')"
      ]
    },
    {
      "cell_type": "code",
      "execution_count": 16,
      "metadata": {
        "colab": {
          "base_uri": "https://localhost:8080/",
          "height": 296
        },
        "id": "zYlc6LcuXp-G",
        "outputId": "4cfc3642-a32d-4a7b-9eae-c7665cb26dc3"
      },
      "outputs": [
        {
          "data": {
            "text/plain": [
              "Text(0, 0.5, 'num_movies')"
            ]
          },
          "execution_count": 16,
          "metadata": {},
          "output_type": "execute_result"
        },
        {
          "data": {
            "image/png": "[encoded data removed]",
            "text/plain": [
              "<Figure size 432x288 with 1 Axes>"
            ]
          },
          "metadata": {
            "needs_background": "light"
          },
          "output_type": "display_data"
        }
      ],
      "source": [
        "#distribution of movies with revenues in years\n",
        "movie_df_plt = movie_df_orig[movie_df_orig['revenue'].notna()]\n",
        "movie_df_plt['r_date'].dropna().hist(bins=movie_df_plt['r_date'].dropna().max().year - movie_df_plt['r_date'].dropna().min().year)\n",
        "plt.xlabel('year')\n",
        "plt.ylabel('num_movies')"
      ]
    },
    {
      "cell_type": "code",
      "execution_count": 17,
      "metadata": {
        "colab": {
          "base_uri": "https://localhost:8080/"
        },
        "id": "E4-Y6U8hYp1h",
        "outputId": "0c9ab330-78a2-472d-bb4b-0f4e72f271d0"
      },
      "outputs": [
        {
          "data": {
            "text/plain": [
              "count    42204.000000\n",
              "mean       312.223225\n",
              "std        319.246837\n",
              "min          4.000000\n",
              "25%         88.000000\n",
              "50%        188.000000\n",
              "75%        455.000000\n",
              "max       4942.000000\n",
              "Name: plot, dtype: float64"
            ]
          },
          "execution_count": 17,
          "metadata": {},
          "output_type": "execute_result"
        }
      ],
      "source": [
        "movie_df_orig['plot'].dropna().apply(lambda x: len(x.split(' '))).describe()"
      ]
    },
    {
      "cell_type": "code",
      "execution_count": 18,
      "metadata": {
        "colab": {
          "base_uri": "https://localhost:8080/",
          "height": 206
        },
        "id": "lWQ0CVxrbIsZ",
        "outputId": "641171f1-cfd5-4838-b1c4-52d9329711c4"
      },
      "outputs": [
        {
          "data": {
            "text/html": [
              "<div>\n",
              "<style scoped>\n",
              "    .dataframe tbody tr th:only-of-type {\n",
              "        vertical-align: middle;\n",
              "    }\n",
              "\n",
              "    .dataframe tbody tr th {\n",
              "        vertical-align: top;\n",
              "    }\n",
              "\n",
              "    .dataframe thead th {\n",
              "        text-align: right;\n",
              "    }\n",
              "</style>\n",
              "<table border=\"1\" class=\"dataframe\">\n",
              "  <thead>\n",
              "    <tr style=\"text-align: right;\">\n",
              "      <th></th>\n",
              "      <th>Unnamed: 0</th>\n",
              "      <th>tmdb_id</th>\n",
              "      <th>r_date</th>\n",
              "      <th>imdb_id</th>\n",
              "      <th>runtime</th>\n",
              "      <th>revenue</th>\n",
              "      <th>budget</th>\n",
              "      <th>tmdb_plot</th>\n",
              "      <th>tmdb_certs</th>\n",
              "    </tr>\n",
              "  </thead>\n",
              "  <tbody>\n",
              "    <tr>\n",
              "      <th>0</th>\n",
              "      <td>176119</td>\n",
              "      <td>2</td>\n",
              "      <td>1988-10-21</td>\n",
              "      <td>tt0094675</td>\n",
              "      <td>73.0</td>\n",
              "      <td>0.0</td>\n",
              "      <td>0.0</td>\n",
              "      <td>Taisto Kasurinen is a Finnish coal miner whose...</td>\n",
              "      <td>[{'iso_3166_1': 'FR', 'release_dates': [{'cert...</td>\n",
              "    </tr>\n",
              "    <tr>\n",
              "      <th>1</th>\n",
              "      <td>185208</td>\n",
              "      <td>3</td>\n",
              "      <td>1986-10-17</td>\n",
              "      <td>tt0092149</td>\n",
              "      <td>74.0</td>\n",
              "      <td>0.0</td>\n",
              "      <td>0.0</td>\n",
              "      <td>An episode in the life of Nikander, a garbage ...</td>\n",
              "      <td>[{'iso_3166_1': 'US', 'release_dates': [{'cert...</td>\n",
              "    </tr>\n",
              "    <tr>\n",
              "      <th>2</th>\n",
              "      <td>244929</td>\n",
              "      <td>5</td>\n",
              "      <td>1995-12-09</td>\n",
              "      <td>tt0113101</td>\n",
              "      <td>98.0</td>\n",
              "      <td>4257354.0</td>\n",
              "      <td>4000000.0</td>\n",
              "      <td>It's Ted the Bellhop's first night on the job....</td>\n",
              "      <td>[{'iso_3166_1': 'FI', 'release_dates': [{'cert...</td>\n",
              "    </tr>\n",
              "    <tr>\n",
              "      <th>3</th>\n",
              "      <td>245609</td>\n",
              "      <td>6</td>\n",
              "      <td>1993-10-15</td>\n",
              "      <td>tt0107286</td>\n",
              "      <td>109.0</td>\n",
              "      <td>12136938.0</td>\n",
              "      <td>21000000.0</td>\n",
              "      <td>While racing to a boxing match, Frank, Mike, J...</td>\n",
              "      <td>[{'iso_3166_1': 'HU', 'release_dates': [{'cert...</td>\n",
              "    </tr>\n",
              "    <tr>\n",
              "      <th>4</th>\n",
              "      <td>420448</td>\n",
              "      <td>8</td>\n",
              "      <td>2006-01-01</td>\n",
              "      <td>tt0825671</td>\n",
              "      <td>80.0</td>\n",
              "      <td>0.0</td>\n",
              "      <td>42000.0</td>\n",
              "      <td>Timo Novotny labels his new project an experim...</td>\n",
              "      <td>[{'iso_3166_1': 'LV', 'release_dates': [{'cert...</td>\n",
              "    </tr>\n",
              "  </tbody>\n",
              "</table>\n",
              "</div>"
            ],
            "text/plain": [
              "   Unnamed: 0  tmdb_id      r_date    imdb_id  runtime     revenue  \\\n",
              "0      176119        2  1988-10-21  tt0094675     73.0         0.0   \n",
              "1      185208        3  1986-10-17  tt0092149     74.0         0.0   \n",
              "2      244929        5  1995-12-09  tt0113101     98.0   4257354.0   \n",
              "3      245609        6  1993-10-15  tt0107286    109.0  12136938.0   \n",
              "4      420448        8  2006-01-01  tt0825671     80.0         0.0   \n",
              "\n",
              "       budget                                          tmdb_plot  \\\n",
              "0         0.0  Taisto Kasurinen is a Finnish coal miner whose...   \n",
              "1         0.0  An episode in the life of Nikander, a garbage ...   \n",
              "2   4000000.0  It's Ted the Bellhop's first night on the job....   \n",
              "3  21000000.0  While racing to a boxing match, Frank, Mike, J...   \n",
              "4     42000.0  Timo Novotny labels his new project an experim...   \n",
              "\n",
              "                                          tmdb_certs  \n",
              "0  [{'iso_3166_1': 'FR', 'release_dates': [{'cert...  \n",
              "1  [{'iso_3166_1': 'US', 'release_dates': [{'cert...  \n",
              "2  [{'iso_3166_1': 'FI', 'release_dates': [{'cert...  \n",
              "3  [{'iso_3166_1': 'HU', 'release_dates': [{'cert...  \n",
              "4  [{'iso_3166_1': 'LV', 'release_dates': [{'cert...  "
            ]
          },
          "execution_count": 18,
          "metadata": {},
          "output_type": "execute_result"
        }
      ],
      "source": [
        "tmdb_data.head()"
      ]
    },
    {
      "cell_type": "code",
      "execution_count": 19,
      "metadata": {
        "colab": {
          "base_uri": "https://localhost:8080/"
        },
        "id": "VZOfq3_4cao_",
        "outputId": "0e3088e3-878a-413a-eeb3-bd2f69bb0bdd"
      },
      "outputs": [
        {
          "data": {
            "text/plain": [
              "14623"
            ]
          },
          "execution_count": 19,
          "metadata": {},
          "output_type": "execute_result"
        }
      ],
      "source": [
        "# total movies with revenues\n",
        "(tmdb_data['revenue'] >0).sum()\n",
        "\n",
        "# we can see that number of available revenues is higher"
      ]
    },
    {
      "cell_type": "code",
      "execution_count": 20,
      "metadata": {
        "id": "CFFFbw--bQsp"
      },
      "outputs": [],
      "source": [
        "tmdb_data['r_date'] = pd.to_datetime(tmdb_data['r_date'])"
      ]
    },
    {
      "cell_type": "code",
      "execution_count": 21,
      "metadata": {
        "colab": {
          "base_uri": "https://localhost:8080/",
          "height": 296
        },
        "id": "cQo8q7xubaeH",
        "outputId": "81c90809-e6cb-4d5e-b6a3-23dcb0251720"
      },
      "outputs": [
        {
          "data": {
            "text/plain": [
              "Text(0, 0.5, 'num_movies')"
            ]
          },
          "execution_count": 21,
          "metadata": {},
          "output_type": "execute_result"
        },
        {
          "data": {
            "image/png": "[encoded data removed]",
            "text/plain": [
              "<Figure size 432x288 with 1 Axes>"
            ]
          },
          "metadata": {
            "needs_background": "light"
          },
          "output_type": "display_data"
        }
      ],
      "source": [
        "# distribution of movies in years\n",
        "tmdb_data['r_date'].dropna().hist(bins=tmdb_data['r_date'].dropna().max().year - tmdb_data['r_date'].dropna().min().year)\n",
        "plt.xlabel('year')\n",
        "plt.ylabel('num_movies')\n",
        "\n",
        "#number of available movies in all years is higher as well"
      ]
    },
    {
      "cell_type": "code",
      "execution_count": 22,
      "metadata": {
        "colab": {
          "base_uri": "https://localhost:8080/",
          "height": 296
        },
        "id": "0-GxiFyhaOlt",
        "outputId": "2bf482b2-aa8b-480f-92cf-69a7af2ed026"
      },
      "outputs": [
        {
          "data": {
            "text/plain": [
              "Text(0, 0.5, 'num_movies')"
            ]
          },
          "execution_count": 22,
          "metadata": {},
          "output_type": "execute_result"
        },
        {
          "data": {
            "image/png": "[encoded data removed]",
            "text/plain": [
              "<Figure size 432x288 with 1 Axes>"
            ]
          },
          "metadata": {
            "needs_background": "light"
          },
          "output_type": "display_data"
        }
      ],
      "source": [
        "movie_tmdb_rev = tmdb_data[tmdb_data['revenue']>0]\n",
        "movie_tmdb_rev['r_date'].dropna().hist(bins=movie_tmdb_rev['r_date'].dropna().max().year - movie_tmdb_rev['r_date'].dropna().min().year)\n",
        "plt.xlabel('year')\n",
        "plt.ylabel('num_movies')\n",
        "\n",
        "#this distribution shows that we have more revenue data as well, but we are missing the peak around 1960, so merging the data would be the best"
      ]
    },
    {
      "cell_type": "code",
      "execution_count": 23,
      "metadata": {
        "colab": {
          "base_uri": "https://localhost:8080/"
        },
        "id": "z2KtH7_ZifoV",
        "outputId": "f2b6734c-5d10-4545-9c68-7ad49a4d8116"
      },
      "outputs": [
        {
          "data": {
            "text/plain": [
              "count    334137.000000\n",
              "mean         47.101497\n",
              "std          34.746946\n",
              "min           1.000000\n",
              "25%          21.000000\n",
              "50%          37.000000\n",
              "75%          65.000000\n",
              "max         214.000000\n",
              "Name: tmdb_plot, dtype: float64"
            ]
          },
          "execution_count": 23,
          "metadata": {},
          "output_type": "execute_result"
        }
      ],
      "source": [
        "tmdb_data['tmdb_plot'].dropna().apply(lambda x: len(x.split(' '))).describe()\n",
        "\n",
        "# we can see, that the tmbd plot data are way shorter than the ones provided in CMU summary, that's the reason, why we are downloading also the IMDB data, where are more plot alternatives and synapsis offered"
      ]
    },
    {
      "cell_type": "code",
      "execution_count": 24,
      "metadata": {
        "colab": {
          "base_uri": "https://localhost:8080/",
          "height": 337
        },
        "id": "0NuX1J6xjfqC",
        "outputId": "ef11bfab-ec36-4aa3-da8f-98121485ce38"
      },
      "outputs": [
        {
          "data": {
            "text/html": [
              "<div>\n",
              "<style scoped>\n",
              "    .dataframe tbody tr th:only-of-type {\n",
              "        vertical-align: middle;\n",
              "    }\n",
              "\n",
              "    .dataframe tbody tr th {\n",
              "        vertical-align: top;\n",
              "    }\n",
              "\n",
              "    .dataframe thead th {\n",
              "        text-align: right;\n",
              "    }\n",
              "</style>\n",
              "<table border=\"1\" class=\"dataframe\">\n",
              "  <thead>\n",
              "    <tr style=\"text-align: right;\">\n",
              "      <th></th>\n",
              "      <th>Unnamed: 0</th>\n",
              "      <th>imdb_id</th>\n",
              "      <th>title</th>\n",
              "      <th>rating</th>\n",
              "      <th>votes</th>\n",
              "      <th>genres</th>\n",
              "      <th>plot_outline</th>\n",
              "      <th>plot</th>\n",
              "      <th>synopsis</th>\n",
              "      <th>certs</th>\n",
              "    </tr>\n",
              "  </thead>\n",
              "  <tbody>\n",
              "    <tr>\n",
              "      <th>0</th>\n",
              "      <td>0</td>\n",
              "      <td>tt0135453</td>\n",
              "      <td>The One-Man Band</td>\n",
              "      <td>7.0</td>\n",
              "      <td>2330</td>\n",
              "      <td>['Short', 'Comedy']</td>\n",
              "      <td>Ladies and gentlemen, tonight for your enterta...</td>\n",
              "      <td>['A band-leader assembles an orchestra by myst...</td>\n",
              "      <td>NaN</td>\n",
              "      <td>['Norway:A::(recommended rating)', 'United Kin...</td>\n",
              "    </tr>\n",
              "    <tr>\n",
              "      <th>1</th>\n",
              "      <td>0</td>\n",
              "      <td>tt0000304</td>\n",
              "      <td>Grandma's Reading Glass</td>\n",
              "      <td>6.1</td>\n",
              "      <td>1195</td>\n",
              "      <td>['Short', 'Family']</td>\n",
              "      <td>Demonstrating the brand-new technique of close...</td>\n",
              "      <td>['A boy looks through glasses at various objec...</td>\n",
              "      <td>NaN</td>\n",
              "      <td>['Norway:A::(recommended rating)', 'United Kin...</td>\n",
              "    </tr>\n",
              "    <tr>\n",
              "      <th>2</th>\n",
              "      <td>0</td>\n",
              "      <td>tt0000300</td>\n",
              "      <td>The Enchanted Drawing</td>\n",
              "      <td>6.9</td>\n",
              "      <td>1265</td>\n",
              "      <td>['Animation', 'Short', 'Comedy', 'Fantasy']</td>\n",
              "      <td>An easel holds a sketch pad upon which Blackto...</td>\n",
              "      <td>['A cartoonist defies reality when he draws ob...</td>\n",
              "      <td>NaN</td>\n",
              "      <td>['Norway:A::(recommended rating)']</td>\n",
              "    </tr>\n",
              "    <tr>\n",
              "      <th>3</th>\n",
              "      <td>0</td>\n",
              "      <td>tt0132251</td>\n",
              "      <td>Joan of Arc</td>\n",
              "      <td>6.6</td>\n",
              "      <td>1240</td>\n",
              "      <td>['Short', 'Drama', 'History']</td>\n",
              "      <td>Miraculously salvaged in 1982, this grand hand...</td>\n",
              "      <td>['A divinely inspired peasant woman becomes an...</td>\n",
              "      <td>NaN</td>\n",
              "      <td>['Norway:A::(recommended rating)', 'United Sta...</td>\n",
              "    </tr>\n",
              "    <tr>\n",
              "      <th>4</th>\n",
              "      <td>0</td>\n",
              "      <td>tt0291476</td>\n",
              "      <td>Sherlock Holmes Baffled</td>\n",
              "      <td>5.2</td>\n",
              "      <td>696</td>\n",
              "      <td>['Short', 'Comedy', 'Crime', 'Fantasy', 'Myste...</td>\n",
              "      <td>Sherlock Holmes enters his drawing room to fin...</td>\n",
              "      <td>['Sherlock Holmes enters his drawing room to f...</td>\n",
              "      <td>NaN</td>\n",
              "      <td>['United States:Not Rated']</td>\n",
              "    </tr>\n",
              "  </tbody>\n",
              "</table>\n",
              "</div>"
            ],
            "text/plain": [
              "   Unnamed: 0    imdb_id                    title  rating  votes  \\\n",
              "0           0  tt0135453         The One-Man Band     7.0   2330   \n",
              "1           0  tt0000304  Grandma's Reading Glass     6.1   1195   \n",
              "2           0  tt0000300    The Enchanted Drawing     6.9   1265   \n",
              "3           0  tt0132251              Joan of Arc     6.6   1240   \n",
              "4           0  tt0291476  Sherlock Holmes Baffled     5.2    696   \n",
              "\n",
              "                                              genres  \\\n",
              "0                                ['Short', 'Comedy']   \n",
              "1                                ['Short', 'Family']   \n",
              "2        ['Animation', 'Short', 'Comedy', 'Fantasy']   \n",
              "3                      ['Short', 'Drama', 'History']   \n",
              "4  ['Short', 'Comedy', 'Crime', 'Fantasy', 'Myste...   \n",
              "\n",
              "                                        plot_outline  \\\n",
              "0  Ladies and gentlemen, tonight for your enterta...   \n",
              "1  Demonstrating the brand-new technique of close...   \n",
              "2  An easel holds a sketch pad upon which Blackto...   \n",
              "3  Miraculously salvaged in 1982, this grand hand...   \n",
              "4  Sherlock Holmes enters his drawing room to fin...   \n",
              "\n",
              "                                                plot synopsis  \\\n",
              "0  ['A band-leader assembles an orchestra by myst...      NaN   \n",
              "1  ['A boy looks through glasses at various objec...      NaN   \n",
              "2  ['A cartoonist defies reality when he draws ob...      NaN   \n",
              "3  ['A divinely inspired peasant woman becomes an...      NaN   \n",
              "4  ['Sherlock Holmes enters his drawing room to f...      NaN   \n",
              "\n",
              "                                               certs  \n",
              "0  ['Norway:A::(recommended rating)', 'United Kin...  \n",
              "1  ['Norway:A::(recommended rating)', 'United Kin...  \n",
              "2                 ['Norway:A::(recommended rating)']  \n",
              "3  ['Norway:A::(recommended rating)', 'United Sta...  \n",
              "4                        ['United States:Not Rated']  "
            ]
          },
          "execution_count": 24,
          "metadata": {},
          "output_type": "execute_result"
        }
      ],
      "source": [
        "# IMPORTANT: of the IMdB data we have only a small sample, because the data getting is very time-consuming, so the following results are mainly for the old data, so it is very skewed\n",
        "\n",
        "imdb_data.head()"
      ]
    },
    {
      "cell_type": "code",
      "execution_count": 25,
      "metadata": {
        "colab": {
          "base_uri": "https://localhost:8080/"
        },
        "id": "0IH_UEIhjwln",
        "outputId": "9f172911-d33b-426b-c180-9a8641e30427"
      },
      "outputs": [
        {
          "data": {
            "text/plain": [
              "count     1868.000000\n",
              "mean       757.533191\n",
              "std       1046.089867\n",
              "min          5.000000\n",
              "25%        255.750000\n",
              "50%        491.000000\n",
              "75%        821.000000\n",
              "max      10593.000000\n",
              "Name: synopsis, dtype: float64"
            ]
          },
          "execution_count": 25,
          "metadata": {},
          "output_type": "execute_result"
        }
      ],
      "source": [
        "imdb_data['synopsis'].dropna().apply(lambda x: len(x.split(' '))).describe()\n",
        "\n",
        "# the synopsis data are generally quite long,"
      ]
    },
    {
      "cell_type": "code",
      "execution_count": 26,
      "metadata": {
        "colab": {
          "base_uri": "https://localhost:8080/"
        },
        "id": "aXT02Do1keCL",
        "outputId": "73cda5e3-7311-4202-ac33-72e80de5ec42"
      },
      "outputs": [
        {
          "data": {
            "text/plain": [
              "count    37902.000000\n",
              "mean       129.420954\n",
              "std        295.738896\n",
              "min          3.000000\n",
              "25%         31.000000\n",
              "50%         73.000000\n",
              "75%        153.000000\n",
              "max      16856.000000\n",
              "Name: plot, dtype: float64"
            ]
          },
          "execution_count": 26,
          "metadata": {},
          "output_type": "execute_result"
        }
      ],
      "source": [
        "imdb_data['plot'].dropna().apply(lambda x: len(x.split(' '))).describe()\n",
        "\n",
        "# the plot data are way more frequent in the df then synopsis data, but the avg length is smaller and it is often merge of several alternative plots - which we can nicely analyze for sentiment as well!"
      ]
    },
    {
      "cell_type": "code",
      "execution_count": 27,
      "metadata": {
        "colab": {
          "base_uri": "https://localhost:8080/",
          "height": 206
        },
        "id": "XVoRUIVVkAn-",
        "outputId": "1ac43041-d67c-4136-fb39-82d1963484c5"
      },
      "outputs": [
        {
          "data": {
            "text/html": [
              "<div>\n",
              "<style scoped>\n",
              "    .dataframe tbody tr th:only-of-type {\n",
              "        vertical-align: middle;\n",
              "    }\n",
              "\n",
              "    .dataframe tbody tr th {\n",
              "        vertical-align: top;\n",
              "    }\n",
              "\n",
              "    .dataframe thead th {\n",
              "        text-align: right;\n",
              "    }\n",
              "</style>\n",
              "<table border=\"1\" class=\"dataframe\">\n",
              "  <thead>\n",
              "    <tr style=\"text-align: right;\">\n",
              "      <th></th>\n",
              "      <th>year</th>\n",
              "      <th>value</th>\n",
              "    </tr>\n",
              "  </thead>\n",
              "  <tbody>\n",
              "    <tr>\n",
              "      <th>0</th>\n",
              "      <td>1913</td>\n",
              "      <td>9.883333</td>\n",
              "    </tr>\n",
              "    <tr>\n",
              "      <th>1</th>\n",
              "      <td>1914</td>\n",
              "      <td>10.016667</td>\n",
              "    </tr>\n",
              "    <tr>\n",
              "      <th>2</th>\n",
              "      <td>1915</td>\n",
              "      <td>10.108333</td>\n",
              "    </tr>\n",
              "    <tr>\n",
              "      <th>3</th>\n",
              "      <td>1916</td>\n",
              "      <td>10.883333</td>\n",
              "    </tr>\n",
              "    <tr>\n",
              "      <th>4</th>\n",
              "      <td>1917</td>\n",
              "      <td>12.825000</td>\n",
              "    </tr>\n",
              "  </tbody>\n",
              "</table>\n",
              "</div>"
            ],
            "text/plain": [
              "   year      value\n",
              "0  1913   9.883333\n",
              "1  1914  10.016667\n",
              "2  1915  10.108333\n",
              "3  1916  10.883333\n",
              "4  1917  12.825000"
            ]
          },
          "execution_count": 27,
          "metadata": {},
          "output_type": "execute_result"
        }
      ],
      "source": [
        "# downloaded revenue data\n",
        "CPI_df = pd.read_csv(data_folder + CPI_values, sep = ',', index_col=0) \n",
        "CPI_df.head()"
      ]
    },
    {
      "cell_type": "code",
      "execution_count": 28,
      "metadata": {
        "id": "K2vtMwQ3tNjt"
      },
      "outputs": [],
      "source": [
        "#convert it to dict to make it faster\n",
        "CPI = {}\n",
        "for i in range(CPI_df.shape[0]):\n",
        "  CPI[int(CPI_df.iloc[i]['year'])] = CPI_df.iloc[i]['value']"
      ]
    },
    {
      "cell_type": "code",
      "execution_count": 29,
      "metadata": {
        "id": "F7lpCaJNlUK7"
      },
      "outputs": [],
      "source": [
        "def calculate_inflation(df):\n",
        "    \n",
        "    # This function takes a dataframe as an argument and searches the colums \"year\" and \"revenue\".\n",
        "    # If \"revenue\" is nan, it fills it with 0.\n",
        "    # The function makes a new column \"unfinlated_revenue\" where are the unfinlated revenues.\n",
        "    # The oldest CPI is from 1913 so if the film is made before that, the uninflated revenue will be 0. \n",
        "    # The CPI data is from https://www.bls.gov/cpi/data.htm\n",
        "    \n",
        "    uninflated_list = []\n",
        "    CPI_today = CPI[2022]\n",
        "    df[\"revenue\"].fillna(0, inplace=True)\n",
        "    for i, row in enumerate(df[\"year\"]):\n",
        "        if isinstance(row, str) :\n",
        "            date = row.split(\"-\")[0]\n",
        "        date = int(row)\n",
        "        if date >= 1913:\n",
        "            CPI_year = CPI[date]\n",
        "            USD_revenue = df.iloc[i][\"revenue\"]\n",
        "            today_value = (CPI_today / CPI_year) * USD_revenue\n",
        "            uninflated_list.append(today_value)\n",
        "        else:\n",
        "            uninflated_list.append(0)\n",
        "    df[\"uninflated_revenue\"] = uninflated_list"
      ]
    },
    {
      "cell_type": "code",
      "execution_count": 30,
      "metadata": {
        "colab": {
          "base_uri": "https://localhost:8080/"
        },
        "id": "96S0mHG1ljZV",
        "outputId": "305077c0-ac1d-4dec-d2d7-357d9a4ce20a"
      },
      "outputs": [
        {
          "name": "stderr",
          "output_type": "stream",
          "text": [
            "/home/ondin/anaconda3/envs/ml/lib/python3.6/site-packages/ipykernel_launcher.py:2: SettingWithCopyWarning: \n",
            "A value is trying to be set on a copy of a slice from a DataFrame.\n",
            "Try using .loc[row_indexer,col_indexer] = value instead\n",
            "\n",
            "See the caveats in the documentation: https://pandas.pydata.org/pandas-docs/stable/user_guide/indexing.html#returning-a-view-versus-a-copy\n",
            "  \n"
          ]
        }
      ],
      "source": [
        "# create year column to make uninflating of revenues easier\n",
        "movie_tmdb_rev[\"year\"] = movie_tmdb_rev.apply(lambda x: x[\"r_date\"].year, axis=1)\n",
        "movie_tmdb_rev = movie_tmdb_rev[movie_tmdb_rev.year.notna()]\n"
      ]
    },
    {
      "cell_type": "code",
      "execution_count": 31,
      "metadata": {
        "id": "k4fq1o62r0c-"
      },
      "outputs": [],
      "source": [
        "calculate_inflation(movie_tmdb_rev)"
      ]
    },
    {
      "cell_type": "code",
      "execution_count": 32,
      "metadata": {
        "id": "jCp0FKfmqT09"
      },
      "outputs": [],
      "source": [
        "# group revenues by year and average it\n",
        "revs = movie_tmdb_rev.groupby([\"year\"]).revenue.mean()\n",
        "uninf_revs = movie_tmdb_rev.groupby([\"year\"]).uninflated_revenue.mean()"
      ]
    },
    {
      "cell_type": "code",
      "execution_count": 33,
      "metadata": {
        "colab": {
          "base_uri": "https://localhost:8080/",
          "height": 312
        },
        "id": "dd-zEy3OrPdg",
        "outputId": "d74b023b-4e9b-45f0-b6b7-6208b3ab09a7"
      },
      "outputs": [
        {
          "data": {
            "text/plain": [
              "Text(0, 0.5, 'revenue')"
            ]
          },
          "execution_count": 33,
          "metadata": {},
          "output_type": "execute_result"
        },
        {
          "data": {
            "image/png": "[encoded data removed]",
            "text/plain": [
              "<Figure size 432x288 with 1 Axes>"
            ]
          },
          "metadata": {
            "needs_background": "light"
          },
          "output_type": "display_data"
        }
      ],
      "source": [
        "revs.plot(legend='inflated data')\n",
        "uninf_revs.plot(legend='uninflated data')\n",
        "plt.title(\"comparison of inflated and uninflated revenue data\")\n",
        "plt.xlabel(\"year\")\n",
        "plt.ylabel(\"revenue\")\n",
        "\n",
        "# we can see that the results with this approach does not make much sense on the first sight, so it definitely needs further exploration before using it in the analysis"
      ]
    },
    {
      "cell_type": "markdown",
      "metadata": {
        "id": "ocNzo6dGXYSR"
      },
      "source": [
        "### 2. Sentiment Analysis"
      ]
    },
    {
      "cell_type": "code",
      "execution_count": 34,
      "metadata": {
        "colab": {
          "base_uri": "https://localhost:8080/"
        },
        "id": "FnKIouCap_u2",
        "outputId": "9038737e-2b21-4036-9329-56a37c17be28"
      },
      "outputs": [
        {
          "ename": "ModuleNotFoundError",
          "evalue": "No module named 'nltk'",
          "output_type": "error",
          "traceback": [
            "\u001b[0;31m---------------------------------------------------------------------------\u001b[0m",
            "\u001b[0;31mModuleNotFoundError\u001b[0m                       Traceback (most recent call last)",
            "\u001b[0;32m<ipython-input-34-c8325a93b876>\u001b[0m in \u001b[0;36m<module>\u001b[0;34m\u001b[0m\n\u001b[0;32m----> 1\u001b[0;31m \u001b[0;32mimport\u001b[0m \u001b[0mnltk\u001b[0m\u001b[0;34m\u001b[0m\u001b[0;34m\u001b[0m\u001b[0m\n\u001b[0m\u001b[1;32m      2\u001b[0m \u001b[0;32mimport\u001b[0m \u001b[0mstring\u001b[0m\u001b[0;34m\u001b[0m\u001b[0;34m\u001b[0m\u001b[0m\n\u001b[1;32m      3\u001b[0m \u001b[0mnltk\u001b[0m\u001b[0;34m.\u001b[0m\u001b[0mdownload\u001b[0m\u001b[0;34m(\u001b[0m\u001b[0;34m'stopwords'\u001b[0m\u001b[0;34m)\u001b[0m\u001b[0;34m\u001b[0m\u001b[0;34m\u001b[0m\u001b[0m\n\u001b[1;32m      4\u001b[0m \u001b[0mnltk\u001b[0m\u001b[0;34m.\u001b[0m\u001b[0mdownload\u001b[0m\u001b[0;34m(\u001b[0m\u001b[0;34m'punkt'\u001b[0m\u001b[0;34m)\u001b[0m\u001b[0;34m\u001b[0m\u001b[0;34m\u001b[0m\u001b[0m\n\u001b[1;32m      5\u001b[0m \u001b[0mnltk\u001b[0m\u001b[0;34m.\u001b[0m\u001b[0mdownload\u001b[0m\u001b[0;34m(\u001b[0m\u001b[0;34m'averaged_perceptron_tagger'\u001b[0m\u001b[0;34m)\u001b[0m\u001b[0;34m\u001b[0m\u001b[0;34m\u001b[0m\u001b[0m\n",
            "\u001b[0;31mModuleNotFoundError\u001b[0m: No module named 'nltk'"
          ]
        }
      ],
      "source": [
        "import nltk\n",
        "import string\n",
        "nltk.download('stopwords')\n",
        "nltk.download('punkt')\n",
        "nltk.download('averaged_perceptron_tagger')\n",
        "nltk.download('brown')"
      ]
    },
    {
      "cell_type": "markdown",
      "metadata": {
        "id": "CCT0DoN2lkCk"
      },
      "source": [
        "#### 2.1 General Sentiment"
      ]
    },
    {
      "cell_type": "code",
      "execution_count": null,
      "metadata": {
        "colab": {
          "base_uri": "https://localhost:8080/"
        },
        "id": "uIVAJakGljFg",
        "outputId": "16b32114-5c45-49f4-bcf9-44a8efefd28a"
      },
      "outputs": [
        {
          "name": "stderr",
          "output_type": "stream",
          "text": [
            "/usr/local/lib/python3.7/dist-packages/ipykernel_launcher.py:4: SettingWithCopyWarning: \n",
            "A value is trying to be set on a copy of a slice from a DataFrame.\n",
            "Try using .loc[row_indexer,col_indexer] = value instead\n",
            "\n",
            "See the caveats in the documentation: https://pandas.pydata.org/pandas-docs/stable/user_guide/indexing.html#returning-a-view-versus-a-copy\n",
            "  after removing the cwd from sys.path.\n"
          ]
        }
      ],
      "source": [
        "from textblob import TextBlob\n",
        "\n",
        "imdb_data[\"general_sentiment\"] = imdb_data[\"plot\"].apply(lambda x: TextBlob(str(x)).sentiment)"
      ]
    },
    {
      "cell_type": "markdown",
      "metadata": {
        "id": "MPSWC2H5Xh2b"
      },
      "source": [
        "#### 2.2 Emotions\n",
        "\n",
        "Explanation of code/purpose"
      ]
    },
    {
      "cell_type": "code",
      "execution_count": null,
      "metadata": {
        "id": "s04XxlRBuBXM"
      },
      "outputs": [],
      "source": [
        "!pip install transformers"
      ]
    },
    {
      "cell_type": "code",
      "execution_count": null,
      "metadata": {
        "id": "sMyK40qsuBji"
      },
      "outputs": [],
      "source": [
        "from transformers import pipeline\n",
        "classifier1 = pipeline(\"text-classification\", model=\"bhadresh-savani/distilbert-base-uncased-emotion\", return_all_scores=True) \n",
        "classifier2 = pipeline(\"text-classification\", model=\"j-hartmann/emotion-english-distilroberta-base\", return_all_scores=True) \n",
        "classifier3 = pipeline(\"text-classification\", model=\"joeddav/distilbert-base-uncased-go-emotions-student\", return_all_scores=True) \n",
        "\n",
        "# bhadresh-savani/distilbert-base-uncased-emotion # Very good model trained on Twitter emotion [anger 🤬, disgust 🤢, fear 😨, joy 😀, sadness 😭, surprise 😲]\n",
        "# j-hartmann/emotion-english-distilroberta-base   # Trained on 6 different datasets. Similar to above one, but has neutral emotion [+ neutral 😐]\n",
        "# joeddav/distilbert-base-uncased-go-emotions-student # \n",
        "\n",
        "# All models have input limitation (512-514 words)"
      ]
    },
    {
      "cell_type": "code",
      "execution_count": null,
      "metadata": {
        "id": "_QmrfL_juBwD"
      },
      "outputs": [],
      "source": [
        "import pandas as pd\n",
        "import seaborn as sns\n",
        "import math\n",
        "import matplotlib.pyplot as plt\n",
        "LENGTH_CHUNKS= 512\n",
        "\n",
        "imdb_data2= imdb_data.copy()\n",
        "imdb_data2.drop(columns=imdb_data.columns[0], axis=1, inplace=True)"
      ]
    },
    {
      "cell_type": "code",
      "execution_count": null,
      "metadata": {
        "colab": {
          "base_uri": "https://localhost:8080/",
          "height": 191
        },
        "id": "QXrSIuQtuB6_",
        "outputId": "41e2a699-7cd7-420f-fa10-d7a74be4fb00"
      },
      "outputs": [
        {
          "data": {
            "text/html": [
              "\n",
              "  <div id=\"df-c53426d9-bfa9-4102-88c4-bbc57957e290\">\n",
              "    <div class=\"colab-df-container\">\n",
              "      <div>\n",
              "<style scoped>\n",
              "    .dataframe tbody tr th:only-of-type {\n",
              "        vertical-align: middle;\n",
              "    }\n",
              "\n",
              "    .dataframe tbody tr th {\n",
              "        vertical-align: top;\n",
              "    }\n",
              "\n",
              "    .dataframe thead th {\n",
              "        text-align: right;\n",
              "    }\n",
              "</style>\n",
              "<table border=\"1\" class=\"dataframe\">\n",
              "  <thead>\n",
              "    <tr style=\"text-align: right;\">\n",
              "      <th></th>\n",
              "      <th>imdb_id</th>\n",
              "      <th>title</th>\n",
              "      <th>rating</th>\n",
              "      <th>votes</th>\n",
              "      <th>genres</th>\n",
              "      <th>plot_outline</th>\n",
              "      <th>plot</th>\n",
              "      <th>synopsis</th>\n",
              "      <th>certs</th>\n",
              "    </tr>\n",
              "  </thead>\n",
              "  <tbody>\n",
              "    <tr>\n",
              "      <th>0</th>\n",
              "      <td>tt0135453</td>\n",
              "      <td>The One-Man Band</td>\n",
              "      <td>7.0</td>\n",
              "      <td>2330</td>\n",
              "      <td>['Short', 'Comedy']</td>\n",
              "      <td>Ladies and gentlemen, tonight for your enterta...</td>\n",
              "      <td>['A band-leader assembles an orchestra by myst...</td>\n",
              "      <td>NaN</td>\n",
              "      <td>['Norway:A::(recommended rating)', 'United Kin...</td>\n",
              "    </tr>\n",
              "    <tr>\n",
              "      <th>1</th>\n",
              "      <td>tt0000304</td>\n",
              "      <td>Grandma's Reading Glass</td>\n",
              "      <td>6.1</td>\n",
              "      <td>1195</td>\n",
              "      <td>['Short', 'Family']</td>\n",
              "      <td>Demonstrating the brand-new technique of close...</td>\n",
              "      <td>['A boy looks through glasses at various objec...</td>\n",
              "      <td>NaN</td>\n",
              "      <td>['Norway:A::(recommended rating)', 'United Kin...</td>\n",
              "    </tr>\n",
              "  </tbody>\n",
              "</table>\n",
              "</div>\n",
              "      <button class=\"colab-df-convert\" onclick=\"convertToInteractive('df-c53426d9-bfa9-4102-88c4-bbc57957e290')\"\n",
              "              title=\"Convert this dataframe to an interactive table.\"\n",
              "              style=\"display:none;\">\n",
              "        \n",
              "  <svg xmlns=\"http://www.w3.org/2000/svg\" height=\"24px\"viewBox=\"0 0 24 24\"\n",
              "       width=\"24px\">\n",
              "    <path d=\"M0 0h24v24H0V0z\" fill=\"none\"/>\n",
              "    <path d=\"M18.56 5.44l.94 2.06.94-2.06 2.06-.94-2.06-.94-.94-2.06-.94 2.06-2.06.94zm-11 1L8.5 8.5l.94-2.06 2.06-.94-2.06-.94L8.5 2.5l-.94 2.06-2.06.94zm10 10l.94 2.06.94-2.06 2.06-.94-2.06-.94-.94-2.06-.94 2.06-2.06.94z\"/><path d=\"M17.41 7.96l-1.37-1.37c-.4-.4-.92-.59-1.43-.59-.52 0-1.04.2-1.43.59L10.3 9.45l-7.72 7.72c-.78.78-.78 2.05 0 2.83L4 21.41c.39.39.9.59 1.41.59.51 0 1.02-.2 1.41-.59l7.78-7.78 2.81-2.81c.8-.78.8-2.07 0-2.86zM5.41 20L4 18.59l7.72-7.72 1.47 1.35L5.41 20z\"/>\n",
              "  </svg>\n",
              "      </button>\n",
              "      \n",
              "  <style>\n",
              "    .colab-df-container {\n",
              "      display:flex;\n",
              "      flex-wrap:wrap;\n",
              "      gap: 12px;\n",
              "    }\n",
              "\n",
              "    .colab-df-convert {\n",
              "      background-color: #E8F0FE;\n",
              "      border: none;\n",
              "      border-radius: 50%;\n",
              "      cursor: pointer;\n",
              "      display: none;\n",
              "      fill: #1967D2;\n",
              "      height: 32px;\n",
              "      padding: 0 0 0 0;\n",
              "      width: 32px;\n",
              "    }\n",
              "\n",
              "    .colab-df-convert:hover {\n",
              "      background-color: #E2EBFA;\n",
              "      box-shadow: 0px 1px 2px rgba(60, 64, 67, 0.3), 0px 1px 3px 1px rgba(60, 64, 67, 0.15);\n",
              "      fill: #174EA6;\n",
              "    }\n",
              "\n",
              "    [theme=dark] .colab-df-convert {\n",
              "      background-color: #3B4455;\n",
              "      fill: #D2E3FC;\n",
              "    }\n",
              "\n",
              "    [theme=dark] .colab-df-convert:hover {\n",
              "      background-color: #434B5C;\n",
              "      box-shadow: 0px 1px 3px 1px rgba(0, 0, 0, 0.15);\n",
              "      filter: drop-shadow(0px 1px 2px rgba(0, 0, 0, 0.3));\n",
              "      fill: #FFFFFF;\n",
              "    }\n",
              "  </style>\n",
              "\n",
              "      <script>\n",
              "        const buttonEl =\n",
              "          document.querySelector('#df-c53426d9-bfa9-4102-88c4-bbc57957e290 button.colab-df-convert');\n",
              "        buttonEl.style.display =\n",
              "          google.colab.kernel.accessAllowed ? 'block' : 'none';\n",
              "\n",
              "        async function convertToInteractive(key) {\n",
              "          const element = document.querySelector('#df-c53426d9-bfa9-4102-88c4-bbc57957e290');\n",
              "          const dataTable =\n",
              "            await google.colab.kernel.invokeFunction('convertToInteractive',\n",
              "                                                     [key], {});\n",
              "          if (!dataTable) return;\n",
              "\n",
              "          const docLinkHtml = 'Like what you see? Visit the ' +\n",
              "            '<a target=\"_blank\" href=https://colab.research.google.com/notebooks/data_table.ipynb>data table notebook</a>'\n",
              "            + ' to learn more about interactive tables.';\n",
              "          element.innerHTML = '';\n",
              "          dataTable['output_type'] = 'display_data';\n",
              "          await google.colab.output.renderOutput(dataTable, element);\n",
              "          const docLink = document.createElement('div');\n",
              "          docLink.innerHTML = docLinkHtml;\n",
              "          element.appendChild(docLink);\n",
              "        }\n",
              "      </script>\n",
              "    </div>\n",
              "  </div>\n",
              "  "
            ],
            "text/plain": [
              "     imdb_id                    title  rating  votes               genres  \\\n",
              "0  tt0135453         The One-Man Band     7.0   2330  ['Short', 'Comedy']   \n",
              "1  tt0000304  Grandma's Reading Glass     6.1   1195  ['Short', 'Family']   \n",
              "\n",
              "                                        plot_outline  \\\n",
              "0  Ladies and gentlemen, tonight for your enterta...   \n",
              "1  Demonstrating the brand-new technique of close...   \n",
              "\n",
              "                                                plot synopsis  \\\n",
              "0  ['A band-leader assembles an orchestra by myst...      NaN   \n",
              "1  ['A boy looks through glasses at various objec...      NaN   \n",
              "\n",
              "                                               certs  \n",
              "0  ['Norway:A::(recommended rating)', 'United Kin...  \n",
              "1  ['Norway:A::(recommended rating)', 'United Kin...  "
            ]
          },
          "execution_count": 9,
          "metadata": {},
          "output_type": "execute_result"
        }
      ],
      "source": [
        "imdb_data2.head(2)"
      ]
    },
    {
      "cell_type": "code",
      "execution_count": null,
      "metadata": {
        "id": "IB72PXHgulSp"
      },
      "outputs": [],
      "source": [
        "#function to make chunks of length n words from a plot text\n",
        "def chunk_text(text, n):\n",
        "    words=text.split()\n",
        "    for i in range(0, len(text), n):\n",
        "        yield text[i:i + n]\n",
        "\n",
        "#function that regroups words from list into text\n",
        "def chunks_list(text,n):\n",
        "    chuncked_text = list(chunk_text(text, n))\n",
        "    chuncked_text= [\"\".join(word) for word in chuncked_text]\n",
        "    return chuncked_text\n"
      ]
    },
    {
      "cell_type": "code",
      "execution_count": null,
      "metadata": {
        "colab": {
          "base_uri": "https://localhost:8080/",
          "height": 143
        },
        "id": "YlBFTZ2Cule-",
        "outputId": "ab2a190f-e50f-465b-99fc-1dff785445db"
      },
      "outputs": [
        {
          "data": {
            "text/html": [
              "\n",
              "  <div id=\"df-c847b1e3-9ff4-439d-b834-6f9825350b96\">\n",
              "    <div class=\"colab-df-container\">\n",
              "      <div>\n",
              "<style scoped>\n",
              "    .dataframe tbody tr th:only-of-type {\n",
              "        vertical-align: middle;\n",
              "    }\n",
              "\n",
              "    .dataframe tbody tr th {\n",
              "        vertical-align: top;\n",
              "    }\n",
              "\n",
              "    .dataframe thead th {\n",
              "        text-align: right;\n",
              "    }\n",
              "</style>\n",
              "<table border=\"1\" class=\"dataframe\">\n",
              "  <thead>\n",
              "    <tr style=\"text-align: right;\">\n",
              "      <th></th>\n",
              "      <th>imdb_id</th>\n",
              "      <th>title</th>\n",
              "      <th>plot</th>\n",
              "      <th>chuncked_plot</th>\n",
              "    </tr>\n",
              "  </thead>\n",
              "  <tbody>\n",
              "    <tr>\n",
              "      <th>0</th>\n",
              "      <td>tt0135453</td>\n",
              "      <td>The One-Man Band</td>\n",
              "      <td>['A band-leader assembles an orchestra by myst...</td>\n",
              "      <td>[['A band-leader assembles an orchestra by mys...</td>\n",
              "    </tr>\n",
              "    <tr>\n",
              "      <th>1</th>\n",
              "      <td>tt0000304</td>\n",
              "      <td>Grandma's Reading Glass</td>\n",
              "      <td>['A boy looks through glasses at various objec...</td>\n",
              "      <td>[['A boy looks through glasses at various obje...</td>\n",
              "    </tr>\n",
              "    <tr>\n",
              "      <th>2</th>\n",
              "      <td>tt0000300</td>\n",
              "      <td>The Enchanted Drawing</td>\n",
              "      <td>['A cartoonist defies reality when he draws ob...</td>\n",
              "      <td>[['A cartoonist defies reality when he draws o...</td>\n",
              "    </tr>\n",
              "  </tbody>\n",
              "</table>\n",
              "</div>\n",
              "      <button class=\"colab-df-convert\" onclick=\"convertToInteractive('df-c847b1e3-9ff4-439d-b834-6f9825350b96')\"\n",
              "              title=\"Convert this dataframe to an interactive table.\"\n",
              "              style=\"display:none;\">\n",
              "        \n",
              "  <svg xmlns=\"http://www.w3.org/2000/svg\" height=\"24px\"viewBox=\"0 0 24 24\"\n",
              "       width=\"24px\">\n",
              "    <path d=\"M0 0h24v24H0V0z\" fill=\"none\"/>\n",
              "    <path d=\"M18.56 5.44l.94 2.06.94-2.06 2.06-.94-2.06-.94-.94-2.06-.94 2.06-2.06.94zm-11 1L8.5 8.5l.94-2.06 2.06-.94-2.06-.94L8.5 2.5l-.94 2.06-2.06.94zm10 10l.94 2.06.94-2.06 2.06-.94-2.06-.94-.94-2.06-.94 2.06-2.06.94z\"/><path d=\"M17.41 7.96l-1.37-1.37c-.4-.4-.92-.59-1.43-.59-.52 0-1.04.2-1.43.59L10.3 9.45l-7.72 7.72c-.78.78-.78 2.05 0 2.83L4 21.41c.39.39.9.59 1.41.59.51 0 1.02-.2 1.41-.59l7.78-7.78 2.81-2.81c.8-.78.8-2.07 0-2.86zM5.41 20L4 18.59l7.72-7.72 1.47 1.35L5.41 20z\"/>\n",
              "  </svg>\n",
              "      </button>\n",
              "      \n",
              "  <style>\n",
              "    .colab-df-container {\n",
              "      display:flex;\n",
              "      flex-wrap:wrap;\n",
              "      gap: 12px;\n",
              "    }\n",
              "\n",
              "    .colab-df-convert {\n",
              "      background-color: #E8F0FE;\n",
              "      border: none;\n",
              "      border-radius: 50%;\n",
              "      cursor: pointer;\n",
              "      display: none;\n",
              "      fill: #1967D2;\n",
              "      height: 32px;\n",
              "      padding: 0 0 0 0;\n",
              "      width: 32px;\n",
              "    }\n",
              "\n",
              "    .colab-df-convert:hover {\n",
              "      background-color: #E2EBFA;\n",
              "      box-shadow: 0px 1px 2px rgba(60, 64, 67, 0.3), 0px 1px 3px 1px rgba(60, 64, 67, 0.15);\n",
              "      fill: #174EA6;\n",
              "    }\n",
              "\n",
              "    [theme=dark] .colab-df-convert {\n",
              "      background-color: #3B4455;\n",
              "      fill: #D2E3FC;\n",
              "    }\n",
              "\n",
              "    [theme=dark] .colab-df-convert:hover {\n",
              "      background-color: #434B5C;\n",
              "      box-shadow: 0px 1px 3px 1px rgba(0, 0, 0, 0.15);\n",
              "      filter: drop-shadow(0px 1px 2px rgba(0, 0, 0, 0.3));\n",
              "      fill: #FFFFFF;\n",
              "    }\n",
              "  </style>\n",
              "\n",
              "      <script>\n",
              "        const buttonEl =\n",
              "          document.querySelector('#df-c847b1e3-9ff4-439d-b834-6f9825350b96 button.colab-df-convert');\n",
              "        buttonEl.style.display =\n",
              "          google.colab.kernel.accessAllowed ? 'block' : 'none';\n",
              "\n",
              "        async function convertToInteractive(key) {\n",
              "          const element = document.querySelector('#df-c847b1e3-9ff4-439d-b834-6f9825350b96');\n",
              "          const dataTable =\n",
              "            await google.colab.kernel.invokeFunction('convertToInteractive',\n",
              "                                                     [key], {});\n",
              "          if (!dataTable) return;\n",
              "\n",
              "          const docLinkHtml = 'Like what you see? Visit the ' +\n",
              "            '<a target=\"_blank\" href=https://colab.research.google.com/notebooks/data_table.ipynb>data table notebook</a>'\n",
              "            + ' to learn more about interactive tables.';\n",
              "          element.innerHTML = '';\n",
              "          dataTable['output_type'] = 'display_data';\n",
              "          await google.colab.output.renderOutput(dataTable, element);\n",
              "          const docLink = document.createElement('div');\n",
              "          docLink.innerHTML = docLinkHtml;\n",
              "          element.appendChild(docLink);\n",
              "        }\n",
              "      </script>\n",
              "    </div>\n",
              "  </div>\n",
              "  "
            ],
            "text/plain": [
              "     imdb_id                    title  \\\n",
              "0  tt0135453         The One-Man Band   \n",
              "1  tt0000304  Grandma's Reading Glass   \n",
              "2  tt0000300    The Enchanted Drawing   \n",
              "\n",
              "                                                plot  \\\n",
              "0  ['A band-leader assembles an orchestra by myst...   \n",
              "1  ['A boy looks through glasses at various objec...   \n",
              "2  ['A cartoonist defies reality when he draws ob...   \n",
              "\n",
              "                                       chuncked_plot  \n",
              "0  [['A band-leader assembles an orchestra by mys...  \n",
              "1  [['A boy looks through glasses at various obje...  \n",
              "2  [['A cartoonist defies reality when he draws o...  "
            ]
          },
          "execution_count": 11,
          "metadata": {},
          "output_type": "execute_result"
        }
      ],
      "source": [
        "imdb_data2['chuncked_plot']= imdb_data2['plot'].apply(lambda x: chunks_list(str(x),LENGTH_CHUNKS))\n",
        "movies_emotions= imdb_data2[['imdb_id','title','plot','chuncked_plot']]\n",
        "movies_emotions.head(3)"
      ]
    },
    {
      "cell_type": "code",
      "execution_count": null,
      "metadata": {
        "id": "ktqnFphqulzR"
      },
      "outputs": [],
      "source": [
        "# Classifier 1\n",
        "# function that generates emotions for each chunk of the plot\n",
        "def emotions_per_chunk(chunk_list):\n",
        "    emotions_list=[]\n",
        "    for i in range(len(chunk_list)):\n",
        "        outcome1_0 = classifier1(chunk_list[i])[0]\n",
        "        emotions_list+=outcome1_0\n",
        "    return emotions_list\n",
        "  "
      ]
    },
    {
      "cell_type": "markdown",
      "metadata": {
        "id": "0PtnHY4iu2DH"
      },
      "source": [
        "In the following code, we calculate the execution time of classifier 1, on a test set of size 250 movies. The purpose behind this is to verify the implementation of our code, and in the next step of the project we will verify its scalability.\n",
        "\n"
      ]
    },
    {
      "cell_type": "code",
      "execution_count": null,
      "metadata": {
        "colab": {
          "base_uri": "https://localhost:8080/"
        },
        "id": "SgOTniftul6z",
        "outputId": "4604e8c0-0975-4326-c288-d8fd85b3713e"
      },
      "outputs": [
        {
          "name": "stdout",
          "output_type": "stream",
          "text": [
            "CPU times: user 56.2 s, sys: 633 ms, total: 56.8 s\n",
            "Wall time: 1min 3s\n"
          ]
        },
        {
          "name": "stderr",
          "output_type": "stream",
          "text": [
            "/usr/local/lib/python3.7/dist-packages/ipykernel_launcher.py:2: SettingWithCopyWarning: \n",
            "A value is trying to be set on a copy of a slice from a DataFrame.\n",
            "Try using .loc[row_indexer,col_indexer] = value instead\n",
            "\n",
            "See the caveats in the documentation: https://pandas.pydata.org/pandas-docs/stable/user_guide/indexing.html#returning-a-view-versus-a-copy\n",
            "  \n"
          ]
        }
      ],
      "source": [
        "%%time \n",
        "test_df= movies_emotions.iloc[:250]\n",
        "test_df['emotions_per_chunk']= test_df['chuncked_plot'].apply(lambda x: emotions_per_chunk(x) )"
      ]
    },
    {
      "cell_type": "code",
      "execution_count": null,
      "metadata": {
        "colab": {
          "base_uri": "https://localhost:8080/",
          "height": 143
        },
        "id": "WKC-H5jBumBt",
        "outputId": "f658c51e-3514-49a5-9c49-a39f478f98d1"
      },
      "outputs": [
        {
          "data": {
            "text/html": [
              "\n",
              "  <div id=\"df-772cbd1f-0914-4f9b-a030-9dee8555c0ae\">\n",
              "    <div class=\"colab-df-container\">\n",
              "      <div>\n",
              "<style scoped>\n",
              "    .dataframe tbody tr th:only-of-type {\n",
              "        vertical-align: middle;\n",
              "    }\n",
              "\n",
              "    .dataframe tbody tr th {\n",
              "        vertical-align: top;\n",
              "    }\n",
              "\n",
              "    .dataframe thead th {\n",
              "        text-align: right;\n",
              "    }\n",
              "</style>\n",
              "<table border=\"1\" class=\"dataframe\">\n",
              "  <thead>\n",
              "    <tr style=\"text-align: right;\">\n",
              "      <th></th>\n",
              "      <th>imdb_id</th>\n",
              "      <th>title</th>\n",
              "      <th>plot</th>\n",
              "      <th>chuncked_plot</th>\n",
              "      <th>emotions_per_chunk</th>\n",
              "    </tr>\n",
              "  </thead>\n",
              "  <tbody>\n",
              "    <tr>\n",
              "      <th>0</th>\n",
              "      <td>tt0135453</td>\n",
              "      <td>The One-Man Band</td>\n",
              "      <td>['A band-leader assembles an orchestra by myst...</td>\n",
              "      <td>[['A band-leader assembles an orchestra by mys...</td>\n",
              "      <td>[{'label': 'sadness', 'score': 0.0022695765364...</td>\n",
              "    </tr>\n",
              "    <tr>\n",
              "      <th>1</th>\n",
              "      <td>tt0000304</td>\n",
              "      <td>Grandma's Reading Glass</td>\n",
              "      <td>['A boy looks through glasses at various objec...</td>\n",
              "      <td>[['A boy looks through glasses at various obje...</td>\n",
              "      <td>[{'label': 'sadness', 'score': 0.0019524201052...</td>\n",
              "    </tr>\n",
              "    <tr>\n",
              "      <th>2</th>\n",
              "      <td>tt0000300</td>\n",
              "      <td>The Enchanted Drawing</td>\n",
              "      <td>['A cartoonist defies reality when he draws ob...</td>\n",
              "      <td>[['A cartoonist defies reality when he draws o...</td>\n",
              "      <td>[{'label': 'sadness', 'score': 0.0029029797296...</td>\n",
              "    </tr>\n",
              "  </tbody>\n",
              "</table>\n",
              "</div>\n",
              "      <button class=\"colab-df-convert\" onclick=\"convertToInteractive('df-772cbd1f-0914-4f9b-a030-9dee8555c0ae')\"\n",
              "              title=\"Convert this dataframe to an interactive table.\"\n",
              "              style=\"display:none;\">\n",
              "        \n",
              "  <svg xmlns=\"http://www.w3.org/2000/svg\" height=\"24px\"viewBox=\"0 0 24 24\"\n",
              "       width=\"24px\">\n",
              "    <path d=\"M0 0h24v24H0V0z\" fill=\"none\"/>\n",
              "    <path d=\"M18.56 5.44l.94 2.06.94-2.06 2.06-.94-2.06-.94-.94-2.06-.94 2.06-2.06.94zm-11 1L8.5 8.5l.94-2.06 2.06-.94-2.06-.94L8.5 2.5l-.94 2.06-2.06.94zm10 10l.94 2.06.94-2.06 2.06-.94-2.06-.94-.94-2.06-.94 2.06-2.06.94z\"/><path d=\"M17.41 7.96l-1.37-1.37c-.4-.4-.92-.59-1.43-.59-.52 0-1.04.2-1.43.59L10.3 9.45l-7.72 7.72c-.78.78-.78 2.05 0 2.83L4 21.41c.39.39.9.59 1.41.59.51 0 1.02-.2 1.41-.59l7.78-7.78 2.81-2.81c.8-.78.8-2.07 0-2.86zM5.41 20L4 18.59l7.72-7.72 1.47 1.35L5.41 20z\"/>\n",
              "  </svg>\n",
              "      </button>\n",
              "      \n",
              "  <style>\n",
              "    .colab-df-container {\n",
              "      display:flex;\n",
              "      flex-wrap:wrap;\n",
              "      gap: 12px;\n",
              "    }\n",
              "\n",
              "    .colab-df-convert {\n",
              "      background-color: #E8F0FE;\n",
              "      border: none;\n",
              "      border-radius: 50%;\n",
              "      cursor: pointer;\n",
              "      display: none;\n",
              "      fill: #1967D2;\n",
              "      height: 32px;\n",
              "      padding: 0 0 0 0;\n",
              "      width: 32px;\n",
              "    }\n",
              "\n",
              "    .colab-df-convert:hover {\n",
              "      background-color: #E2EBFA;\n",
              "      box-shadow: 0px 1px 2px rgba(60, 64, 67, 0.3), 0px 1px 3px 1px rgba(60, 64, 67, 0.15);\n",
              "      fill: #174EA6;\n",
              "    }\n",
              "\n",
              "    [theme=dark] .colab-df-convert {\n",
              "      background-color: #3B4455;\n",
              "      fill: #D2E3FC;\n",
              "    }\n",
              "\n",
              "    [theme=dark] .colab-df-convert:hover {\n",
              "      background-color: #434B5C;\n",
              "      box-shadow: 0px 1px 3px 1px rgba(0, 0, 0, 0.15);\n",
              "      filter: drop-shadow(0px 1px 2px rgba(0, 0, 0, 0.3));\n",
              "      fill: #FFFFFF;\n",
              "    }\n",
              "  </style>\n",
              "\n",
              "      <script>\n",
              "        const buttonEl =\n",
              "          document.querySelector('#df-772cbd1f-0914-4f9b-a030-9dee8555c0ae button.colab-df-convert');\n",
              "        buttonEl.style.display =\n",
              "          google.colab.kernel.accessAllowed ? 'block' : 'none';\n",
              "\n",
              "        async function convertToInteractive(key) {\n",
              "          const element = document.querySelector('#df-772cbd1f-0914-4f9b-a030-9dee8555c0ae');\n",
              "          const dataTable =\n",
              "            await google.colab.kernel.invokeFunction('convertToInteractive',\n",
              "                                                     [key], {});\n",
              "          if (!dataTable) return;\n",
              "\n",
              "          const docLinkHtml = 'Like what you see? Visit the ' +\n",
              "            '<a target=\"_blank\" href=https://colab.research.google.com/notebooks/data_table.ipynb>data table notebook</a>'\n",
              "            + ' to learn more about interactive tables.';\n",
              "          element.innerHTML = '';\n",
              "          dataTable['output_type'] = 'display_data';\n",
              "          await google.colab.output.renderOutput(dataTable, element);\n",
              "          const docLink = document.createElement('div');\n",
              "          docLink.innerHTML = docLinkHtml;\n",
              "          element.appendChild(docLink);\n",
              "        }\n",
              "      </script>\n",
              "    </div>\n",
              "  </div>\n",
              "  "
            ],
            "text/plain": [
              "     imdb_id                    title  \\\n",
              "0  tt0135453         The One-Man Band   \n",
              "1  tt0000304  Grandma's Reading Glass   \n",
              "2  tt0000300    The Enchanted Drawing   \n",
              "\n",
              "                                                plot  \\\n",
              "0  ['A band-leader assembles an orchestra by myst...   \n",
              "1  ['A boy looks through glasses at various objec...   \n",
              "2  ['A cartoonist defies reality when he draws ob...   \n",
              "\n",
              "                                       chuncked_plot  \\\n",
              "0  [['A band-leader assembles an orchestra by mys...   \n",
              "1  [['A boy looks through glasses at various obje...   \n",
              "2  [['A cartoonist defies reality when he draws o...   \n",
              "\n",
              "                                  emotions_per_chunk  \n",
              "0  [{'label': 'sadness', 'score': 0.0022695765364...  \n",
              "1  [{'label': 'sadness', 'score': 0.0019524201052...  \n",
              "2  [{'label': 'sadness', 'score': 0.0029029797296...  "
            ]
          },
          "execution_count": 14,
          "metadata": {},
          "output_type": "execute_result"
        }
      ],
      "source": [
        "test_df.head(3)"
      ]
    },
    {
      "cell_type": "code",
      "execution_count": null,
      "metadata": {
        "id": "UVA1UYTpu6gz"
      },
      "outputs": [],
      "source": [
        "#Compute averaged emotions scores for each movie plot, from the emotions generated for each chunk.\n",
        "#Return list of emotions for each movie plot and the emotions labels (happiness, sadness, etc..)\n",
        "\n",
        "def emotions_avg(movies_emotions):\n",
        "    emotions_list=[]\n",
        "    emotions_df= pd.DataFrame(movies_emotions[0])\n",
        "\n",
        "    emotions_df=emotions_df.groupby(['label']).mean()\n",
        "    emotions_df.reset_index(inplace=True)\n",
        "    labels= list(emotions_df.label.values)\n",
        "\n",
        "    for i in range(len(movies_emotions)):\n",
        "        # convert list of emotions for each chunk\n",
        "        emotions_df= pd.DataFrame(movies_emotions[i])\n",
        "\n",
        "        # calculate the mean of emotions across different chunks\n",
        "        emotions_df=emotions_df.groupby(['label']).mean()\n",
        "        emotions_df.reset_index(inplace=True)\n",
        "\n",
        "        # transpose dataframe for concatenation\n",
        "        emotions_df= emotions_df.transpose()\n",
        "        emotions_df.rename(columns=emotions_df.iloc[0], inplace= True)\n",
        "        emotions_df= emotions_df.iloc[1:]\n",
        "        emotions_list.append(emotions_df.iloc[0].tolist())\n",
        "          \n",
        "    return emotions_list, labels\n"
      ]
    },
    {
      "cell_type": "code",
      "execution_count": null,
      "metadata": {
        "colab": {
          "base_uri": "https://localhost:8080/"
        },
        "id": "3n5wwJ_8umIF",
        "outputId": "33cd1d7f-470e-4151-e927-e9efaa6fdfd2"
      },
      "outputs": [
        {
          "data": {
            "text/plain": [
              "['anger', 'fear', 'joy', 'love', 'sadness', 'surprise']"
            ]
          },
          "execution_count": 16,
          "metadata": {},
          "output_type": "execute_result"
        }
      ],
      "source": [
        "scores, labels= emotions_avg(test_df['emotions_per_chunk'])\n",
        "labels"
      ]
    },
    {
      "cell_type": "code",
      "execution_count": null,
      "metadata": {
        "colab": {
          "base_uri": "https://localhost:8080/",
          "height": 206
        },
        "id": "9r0DlIlPvBk4",
        "outputId": "fcfe5711-ce1d-42ef-b611-219372320068"
      },
      "outputs": [
        {
          "data": {
            "text/html": [
              "\n",
              "  <div id=\"df-28d79967-2499-47a6-b7fe-c5c848a2d6ed\">\n",
              "    <div class=\"colab-df-container\">\n",
              "      <div>\n",
              "<style scoped>\n",
              "    .dataframe tbody tr th:only-of-type {\n",
              "        vertical-align: middle;\n",
              "    }\n",
              "\n",
              "    .dataframe tbody tr th {\n",
              "        vertical-align: top;\n",
              "    }\n",
              "\n",
              "    .dataframe thead th {\n",
              "        text-align: right;\n",
              "    }\n",
              "</style>\n",
              "<table border=\"1\" class=\"dataframe\">\n",
              "  <thead>\n",
              "    <tr style=\"text-align: right;\">\n",
              "      <th></th>\n",
              "      <th>imdb_id</th>\n",
              "      <th>title</th>\n",
              "      <th>plot</th>\n",
              "      <th>anger</th>\n",
              "      <th>fear</th>\n",
              "      <th>joy</th>\n",
              "      <th>love</th>\n",
              "      <th>sadness</th>\n",
              "      <th>surprise</th>\n",
              "    </tr>\n",
              "  </thead>\n",
              "  <tbody>\n",
              "    <tr>\n",
              "      <th>0</th>\n",
              "      <td>tt0135453</td>\n",
              "      <td>The One-Man Band</td>\n",
              "      <td>['A band-leader assembles an orchestra by myst...</td>\n",
              "      <td>0.067110</td>\n",
              "      <td>0.047934</td>\n",
              "      <td>0.822748</td>\n",
              "      <td>0.002332</td>\n",
              "      <td>0.006536</td>\n",
              "      <td>0.053341</td>\n",
              "    </tr>\n",
              "    <tr>\n",
              "      <th>1</th>\n",
              "      <td>tt0000304</td>\n",
              "      <td>Grandma's Reading Glass</td>\n",
              "      <td>['A boy looks through glasses at various objec...</td>\n",
              "      <td>0.270973</td>\n",
              "      <td>0.108990</td>\n",
              "      <td>0.474012</td>\n",
              "      <td>0.129156</td>\n",
              "      <td>0.012555</td>\n",
              "      <td>0.004313</td>\n",
              "    </tr>\n",
              "    <tr>\n",
              "      <th>2</th>\n",
              "      <td>tt0000300</td>\n",
              "      <td>The Enchanted Drawing</td>\n",
              "      <td>['A cartoonist defies reality when he draws ob...</td>\n",
              "      <td>0.010564</td>\n",
              "      <td>0.006028</td>\n",
              "      <td>0.977564</td>\n",
              "      <td>0.000736</td>\n",
              "      <td>0.001751</td>\n",
              "      <td>0.003357</td>\n",
              "    </tr>\n",
              "    <tr>\n",
              "      <th>3</th>\n",
              "      <td>tt0132251</td>\n",
              "      <td>Joan of Arc</td>\n",
              "      <td>['A divinely inspired peasant woman becomes an...</td>\n",
              "      <td>0.234275</td>\n",
              "      <td>0.002571</td>\n",
              "      <td>0.753787</td>\n",
              "      <td>0.001643</td>\n",
              "      <td>0.006559</td>\n",
              "      <td>0.001165</td>\n",
              "    </tr>\n",
              "    <tr>\n",
              "      <th>4</th>\n",
              "      <td>tt0291476</td>\n",
              "      <td>Sherlock Holmes Baffled</td>\n",
              "      <td>['Sherlock Holmes enters his drawing room to f...</td>\n",
              "      <td>0.075241</td>\n",
              "      <td>0.817232</td>\n",
              "      <td>0.007885</td>\n",
              "      <td>0.001111</td>\n",
              "      <td>0.003757</td>\n",
              "      <td>0.094773</td>\n",
              "    </tr>\n",
              "  </tbody>\n",
              "</table>\n",
              "</div>\n",
              "      <button class=\"colab-df-convert\" onclick=\"convertToInteractive('df-28d79967-2499-47a6-b7fe-c5c848a2d6ed')\"\n",
              "              title=\"Convert this dataframe to an interactive table.\"\n",
              "              style=\"display:none;\">\n",
              "        \n",
              "  <svg xmlns=\"http://www.w3.org/2000/svg\" height=\"24px\"viewBox=\"0 0 24 24\"\n",
              "       width=\"24px\">\n",
              "    <path d=\"M0 0h24v24H0V0z\" fill=\"none\"/>\n",
              "    <path d=\"M18.56 5.44l.94 2.06.94-2.06 2.06-.94-2.06-.94-.94-2.06-.94 2.06-2.06.94zm-11 1L8.5 8.5l.94-2.06 2.06-.94-2.06-.94L8.5 2.5l-.94 2.06-2.06.94zm10 10l.94 2.06.94-2.06 2.06-.94-2.06-.94-.94-2.06-.94 2.06-2.06.94z\"/><path d=\"M17.41 7.96l-1.37-1.37c-.4-.4-.92-.59-1.43-.59-.52 0-1.04.2-1.43.59L10.3 9.45l-7.72 7.72c-.78.78-.78 2.05 0 2.83L4 21.41c.39.39.9.59 1.41.59.51 0 1.02-.2 1.41-.59l7.78-7.78 2.81-2.81c.8-.78.8-2.07 0-2.86zM5.41 20L4 18.59l7.72-7.72 1.47 1.35L5.41 20z\"/>\n",
              "  </svg>\n",
              "      </button>\n",
              "      \n",
              "  <style>\n",
              "    .colab-df-container {\n",
              "      display:flex;\n",
              "      flex-wrap:wrap;\n",
              "      gap: 12px;\n",
              "    }\n",
              "\n",
              "    .colab-df-convert {\n",
              "      background-color: #E8F0FE;\n",
              "      border: none;\n",
              "      border-radius: 50%;\n",
              "      cursor: pointer;\n",
              "      display: none;\n",
              "      fill: #1967D2;\n",
              "      height: 32px;\n",
              "      padding: 0 0 0 0;\n",
              "      width: 32px;\n",
              "    }\n",
              "\n",
              "    .colab-df-convert:hover {\n",
              "      background-color: #E2EBFA;\n",
              "      box-shadow: 0px 1px 2px rgba(60, 64, 67, 0.3), 0px 1px 3px 1px rgba(60, 64, 67, 0.15);\n",
              "      fill: #174EA6;\n",
              "    }\n",
              "\n",
              "    [theme=dark] .colab-df-convert {\n",
              "      background-color: #3B4455;\n",
              "      fill: #D2E3FC;\n",
              "    }\n",
              "\n",
              "    [theme=dark] .colab-df-convert:hover {\n",
              "      background-color: #434B5C;\n",
              "      box-shadow: 0px 1px 3px 1px rgba(0, 0, 0, 0.15);\n",
              "      filter: drop-shadow(0px 1px 2px rgba(0, 0, 0, 0.3));\n",
              "      fill: #FFFFFF;\n",
              "    }\n",
              "  </style>\n",
              "\n",
              "      <script>\n",
              "        const buttonEl =\n",
              "          document.querySelector('#df-28d79967-2499-47a6-b7fe-c5c848a2d6ed button.colab-df-convert');\n",
              "        buttonEl.style.display =\n",
              "          google.colab.kernel.accessAllowed ? 'block' : 'none';\n",
              "\n",
              "        async function convertToInteractive(key) {\n",
              "          const element = document.querySelector('#df-28d79967-2499-47a6-b7fe-c5c848a2d6ed');\n",
              "          const dataTable =\n",
              "            await google.colab.kernel.invokeFunction('convertToInteractive',\n",
              "                                                     [key], {});\n",
              "          if (!dataTable) return;\n",
              "\n",
              "          const docLinkHtml = 'Like what you see? Visit the ' +\n",
              "            '<a target=\"_blank\" href=https://colab.research.google.com/notebooks/data_table.ipynb>data table notebook</a>'\n",
              "            + ' to learn more about interactive tables.';\n",
              "          element.innerHTML = '';\n",
              "          dataTable['output_type'] = 'display_data';\n",
              "          await google.colab.output.renderOutput(dataTable, element);\n",
              "          const docLink = document.createElement('div');\n",
              "          docLink.innerHTML = docLinkHtml;\n",
              "          element.appendChild(docLink);\n",
              "        }\n",
              "      </script>\n",
              "    </div>\n",
              "  </div>\n",
              "  "
            ],
            "text/plain": [
              "     imdb_id                    title  \\\n",
              "0  tt0135453         The One-Man Band   \n",
              "1  tt0000304  Grandma's Reading Glass   \n",
              "2  tt0000300    The Enchanted Drawing   \n",
              "3  tt0132251              Joan of Arc   \n",
              "4  tt0291476  Sherlock Holmes Baffled   \n",
              "\n",
              "                                                plot     anger      fear  \\\n",
              "0  ['A band-leader assembles an orchestra by myst...  0.067110  0.047934   \n",
              "1  ['A boy looks through glasses at various objec...  0.270973  0.108990   \n",
              "2  ['A cartoonist defies reality when he draws ob...  0.010564  0.006028   \n",
              "3  ['A divinely inspired peasant woman becomes an...  0.234275  0.002571   \n",
              "4  ['Sherlock Holmes enters his drawing room to f...  0.075241  0.817232   \n",
              "\n",
              "        joy      love   sadness  surprise  \n",
              "0  0.822748  0.002332  0.006536  0.053341  \n",
              "1  0.474012  0.129156  0.012555  0.004313  \n",
              "2  0.977564  0.000736  0.001751  0.003357  \n",
              "3  0.753787  0.001643  0.006559  0.001165  \n",
              "4  0.007885  0.001111  0.003757  0.094773  "
            ]
          },
          "execution_count": 17,
          "metadata": {},
          "output_type": "execute_result"
        }
      ],
      "source": [
        "all_emotions_df= pd.DataFrame(scores, columns=labels)\n",
        "movies_emotions_df=pd.concat([test_df,all_emotions_df], axis=1).drop(columns=['chuncked_plot','emotions_per_chunk'])\n",
        "movies_emotions_df.head(5)"
      ]
    },
    {
      "cell_type": "markdown",
      "metadata": {
        "id": "S8yM3MBSvWQ0"
      },
      "source": [
        "Future steps: Classifier 2 and 3 execution time for generating the emotions \n",
        "need to be compared on the test set. \n",
        "This will be done as part of the future steps of the project."
      ]
    },
    {
      "cell_type": "markdown",
      "metadata": {
        "id": "zSf-prOdmB-R"
      },
      "source": [
        "#### 2.3 Violence"
      ]
    },
    {
      "cell_type": "code",
      "execution_count": null,
      "metadata": {
        "id": "ZyntevS3maIB"
      },
      "outputs": [],
      "source": [
        "# Preparing plots data\n",
        "stemmer = nltk.stem.PorterStemmer()\n",
        "stopwords = nltk.corpus.stopwords.words(\"english\")\n",
        "# Delete punctuation letters\n",
        "imdb_data[\"tokenized_plot_summary\"] = imdb_data[\"plot\"]\\\n",
        "    .apply(lambda text: \"\".join([ch for ch in text if ch not in string.punctuation]).strip())\n",
        "# Toknize plot summaries\n",
        "imdb_data[\"tokenized_plot_summary\"] = imdb_data[\"tokenized_plot_summary\"]\\\n",
        "    .apply(lambda text: nltk.word_tokenize(text))\n",
        "# Delete stopwords, lower and stem\n",
        "imdb_data[\"tokenized_plot_summary\"] = imdb_data[\"tokenized_plot_summary\"]\\\n",
        "    .apply(lambda tokens: [stemmer.stem(word.lower()) for word in tokens if word not in stopwords])"
      ]
    },
    {
      "cell_type": "code",
      "execution_count": null,
      "metadata": {
        "colab": {
          "base_uri": "https://localhost:8080/",
          "height": 278
        },
        "id": "UHhRmnDYmF8W",
        "outputId": "85cafa95-c670-438e-f7b5-70724ec913ed"
      },
      "outputs": [
        {
          "name": "stderr",
          "output_type": "stream",
          "text": [
            "Downloading...\n",
            "From: https://drive.google.com/u/0/uc?id=12bVHlbN56X9X2Qz3OjVJk5aJZVvyYc2q&export=download\n",
            "To: /content/dictionary_7plus.csv\n",
            "100%|██████████| 143k/143k [00:00<00:00, 52.8MB/s]\n"
          ]
        },
        {
          "data": {
            "text/html": [
              "\n",
              "  <div id=\"df-b2446dad-dc25-4ab3-a8db-7479fcb7cb5e\">\n",
              "    <div class=\"colab-df-container\">\n",
              "      <div>\n",
              "<style scoped>\n",
              "    .dataframe tbody tr th:only-of-type {\n",
              "        vertical-align: middle;\n",
              "    }\n",
              "\n",
              "    .dataframe tbody tr th {\n",
              "        vertical-align: top;\n",
              "    }\n",
              "\n",
              "    .dataframe thead th {\n",
              "        text-align: right;\n",
              "    }\n",
              "</style>\n",
              "<table border=\"1\" class=\"dataframe\">\n",
              "  <thead>\n",
              "    <tr style=\"text-align: right;\">\n",
              "      <th></th>\n",
              "      <th>Unnamed: 0</th>\n",
              "      <th>category</th>\n",
              "      <th>word</th>\n",
              "      <th>mean_rating</th>\n",
              "    </tr>\n",
              "  </thead>\n",
              "  <tbody>\n",
              "    <tr>\n",
              "      <th>0</th>\n",
              "      <td>1</td>\n",
              "      <td>deadline</td>\n",
              "      <td>accomplish</td>\n",
              "      <td>8.777778</td>\n",
              "    </tr>\n",
              "    <tr>\n",
              "      <th>1</th>\n",
              "      <td>2</td>\n",
              "      <td>deadline</td>\n",
              "      <td>action</td>\n",
              "      <td>7.600000</td>\n",
              "    </tr>\n",
              "    <tr>\n",
              "      <th>2</th>\n",
              "      <td>3</td>\n",
              "      <td>deadline</td>\n",
              "      <td>anxieti</td>\n",
              "      <td>7.823529</td>\n",
              "    </tr>\n",
              "    <tr>\n",
              "      <th>3</th>\n",
              "      <td>4</td>\n",
              "      <td>deadline</td>\n",
              "      <td>anxious</td>\n",
              "      <td>8.315789</td>\n",
              "    </tr>\n",
              "    <tr>\n",
              "      <th>4</th>\n",
              "      <td>5</td>\n",
              "      <td>deadline</td>\n",
              "      <td>approach</td>\n",
              "      <td>7.625000</td>\n",
              "    </tr>\n",
              "  </tbody>\n",
              "</table>\n",
              "</div>\n",
              "      <button class=\"colab-df-convert\" onclick=\"convertToInteractive('df-b2446dad-dc25-4ab3-a8db-7479fcb7cb5e')\"\n",
              "              title=\"Convert this dataframe to an interactive table.\"\n",
              "              style=\"display:none;\">\n",
              "        \n",
              "  <svg xmlns=\"http://www.w3.org/2000/svg\" height=\"24px\"viewBox=\"0 0 24 24\"\n",
              "       width=\"24px\">\n",
              "    <path d=\"M0 0h24v24H0V0z\" fill=\"none\"/>\n",
              "    <path d=\"M18.56 5.44l.94 2.06.94-2.06 2.06-.94-2.06-.94-.94-2.06-.94 2.06-2.06.94zm-11 1L8.5 8.5l.94-2.06 2.06-.94-2.06-.94L8.5 2.5l-.94 2.06-2.06.94zm10 10l.94 2.06.94-2.06 2.06-.94-2.06-.94-.94-2.06-.94 2.06-2.06.94z\"/><path d=\"M17.41 7.96l-1.37-1.37c-.4-.4-.92-.59-1.43-.59-.52 0-1.04.2-1.43.59L10.3 9.45l-7.72 7.72c-.78.78-.78 2.05 0 2.83L4 21.41c.39.39.9.59 1.41.59.51 0 1.02-.2 1.41-.59l7.78-7.78 2.81-2.81c.8-.78.8-2.07 0-2.86zM5.41 20L4 18.59l7.72-7.72 1.47 1.35L5.41 20z\"/>\n",
              "  </svg>\n",
              "      </button>\n",
              "      \n",
              "  <style>\n",
              "    .colab-df-container {\n",
              "      display:flex;\n",
              "      flex-wrap:wrap;\n",
              "      gap: 12px;\n",
              "    }\n",
              "\n",
              "    .colab-df-convert {\n",
              "      background-color: #E8F0FE;\n",
              "      border: none;\n",
              "      border-radius: 50%;\n",
              "      cursor: pointer;\n",
              "      display: none;\n",
              "      fill: #1967D2;\n",
              "      height: 32px;\n",
              "      padding: 0 0 0 0;\n",
              "      width: 32px;\n",
              "    }\n",
              "\n",
              "    .colab-df-convert:hover {\n",
              "      background-color: #E2EBFA;\n",
              "      box-shadow: 0px 1px 2px rgba(60, 64, 67, 0.3), 0px 1px 3px 1px rgba(60, 64, 67, 0.15);\n",
              "      fill: #174EA6;\n",
              "    }\n",
              "\n",
              "    [theme=dark] .colab-df-convert {\n",
              "      background-color: #3B4455;\n",
              "      fill: #D2E3FC;\n",
              "    }\n",
              "\n",
              "    [theme=dark] .colab-df-convert:hover {\n",
              "      background-color: #434B5C;\n",
              "      box-shadow: 0px 1px 3px 1px rgba(0, 0, 0, 0.15);\n",
              "      filter: drop-shadow(0px 1px 2px rgba(0, 0, 0, 0.3));\n",
              "      fill: #FFFFFF;\n",
              "    }\n",
              "  </style>\n",
              "\n",
              "      <script>\n",
              "        const buttonEl =\n",
              "          document.querySelector('#df-b2446dad-dc25-4ab3-a8db-7479fcb7cb5e button.colab-df-convert');\n",
              "        buttonEl.style.display =\n",
              "          google.colab.kernel.accessAllowed ? 'block' : 'none';\n",
              "\n",
              "        async function convertToInteractive(key) {\n",
              "          const element = document.querySelector('#df-b2446dad-dc25-4ab3-a8db-7479fcb7cb5e');\n",
              "          const dataTable =\n",
              "            await google.colab.kernel.invokeFunction('convertToInteractive',\n",
              "                                                     [key], {});\n",
              "          if (!dataTable) return;\n",
              "\n",
              "          const docLinkHtml = 'Like what you see? Visit the ' +\n",
              "            '<a target=\"_blank\" href=https://colab.research.google.com/notebooks/data_table.ipynb>data table notebook</a>'\n",
              "            + ' to learn more about interactive tables.';\n",
              "          element.innerHTML = '';\n",
              "          dataTable['output_type'] = 'display_data';\n",
              "          await google.colab.output.renderOutput(dataTable, element);\n",
              "          const docLink = document.createElement('div');\n",
              "          docLink.innerHTML = docLinkHtml;\n",
              "          element.appendChild(docLink);\n",
              "        }\n",
              "      </script>\n",
              "    </div>\n",
              "  </div>\n",
              "  "
            ],
            "text/plain": [
              "   Unnamed: 0  category        word  mean_rating\n",
              "0           1  deadline  accomplish     8.777778\n",
              "1           2  deadline      action     7.600000\n",
              "2           3  deadline     anxieti     7.823529\n",
              "3           4  deadline     anxious     8.315789\n",
              "4           5  deadline    approach     7.625000"
            ]
          },
          "execution_count": 26,
          "metadata": {},
          "output_type": "execute_result"
        }
      ],
      "source": [
        "# Grievance Dictionary\n",
        "url_dict = \"https://drive.google.com/u/0/uc?id=12bVHlbN56X9X2Qz3OjVJk5aJZVvyYc2q&export=download\"\n",
        "output_dict = \"dictionary_7plus.csv\"\n",
        "gdown.download(url_dict, output_dict)\n",
        "\n",
        "df_grievance_dictionary = pd.read_csv(\"dictionary_7plus.csv\")\n",
        "df_grievance_dictionary.head(5)"
      ]
    },
    {
      "cell_type": "code",
      "execution_count": null,
      "metadata": {
        "colab": {
          "base_uri": "https://localhost:8080/",
          "height": 213
        },
        "id": "uvWHcwyQrm8E",
        "outputId": "8a8ac53f-8ec6-44fa-d597-3ef67e0e7e2c"
      },
      "outputs": [
        {
          "name": "stdout",
          "output_type": "stream",
          "text": [
            "Number of grievance dictionary entries: \n"
          ]
        },
        {
          "data": {
            "text/plain": [
              "(3633, 4)"
            ]
          },
          "metadata": {},
          "output_type": "display_data"
        },
        {
          "name": "stdout",
          "output_type": "stream",
          "text": [
            "Number of grievance dictionary unique words: \n"
          ]
        },
        {
          "data": {
            "text/plain": [
              "2479"
            ]
          },
          "metadata": {},
          "output_type": "display_data"
        },
        {
          "name": "stdout",
          "output_type": "stream",
          "text": [
            "Number of grievance dictionary categories: \n",
            "Grievance dictionary categories: \n"
          ]
        },
        {
          "data": {
            "text/plain": [
              "array(['deadline', 'desperation', 'fixation', 'frustration', 'god',\n",
              "       'grievance', 'hate', 'help', 'honour', 'impostor', 'jealousy',\n",
              "       'loneliness', 'murder', 'paranoia', 'planning', 'relationship',\n",
              "       'soldier', 'suicide', 'surveillance', 'threat', 'violence',\n",
              "       'weaponry'], dtype=object)"
            ]
          },
          "metadata": {},
          "output_type": "display_data"
        }
      ],
      "source": [
        "## Grievance Dictionary description\n",
        "# How many entries\n",
        "print(\"Number of grievance dictionary entries: \")\n",
        "display(df_grievance_dictionary.shape)\n",
        "# Words\n",
        "print(\"Number of grievance dictionary unique words: \")\n",
        "display(df_grievance_dictionary[\"word\"].nunique())\n",
        "# Categories\n",
        "print(\"Number of grievance dictionary categories: \")\n",
        "df_grievance_dictionary[\"category\"].nunique()\n",
        "print(\"Grievance dictionary categories: \")\n",
        "display(df_grievance_dictionary[\"category\"].unique())"
      ]
    },
    {
      "cell_type": "code",
      "execution_count": null,
      "metadata": {
        "id": "D42sHgC_sLzb"
      },
      "outputs": [],
      "source": [
        "# Choosing the right for our needs categories\n",
        "df_grievance_relevant = df_grievance_dictionary[df_grievance_dictionary[\"category\"]\\\n",
        "                                                .isin(['frustration', 'grievance', 'hate', 'murder', 'paranoia', 'threat', 'violence', 'soldier', 'suicide', 'weaponry'])]"
      ]
    },
    {
      "cell_type": "code",
      "execution_count": null,
      "metadata": {
        "colab": {
          "base_uri": "https://localhost:8080/"
        },
        "id": "NpRxK5nyseW0",
        "outputId": "710b35ab-7aa7-4ce2-f91d-69564041c51b"
      },
      "outputs": [
        {
          "name": "stderr",
          "output_type": "stream",
          "text": [
            "/usr/local/lib/python3.7/dist-packages/ipykernel_launcher.py:7: SettingWithCopyWarning: \n",
            "A value is trying to be set on a copy of a slice from a DataFrame.\n",
            "Try using .loc[row_indexer,col_indexer] = value instead\n",
            "\n",
            "See the caveats in the documentation: https://pandas.pydata.org/pandas-docs/stable/user_guide/indexing.html#returning-a-view-versus-a-copy\n",
            "  import sys\n"
          ]
        }
      ],
      "source": [
        "# Normalizing the mean fit into category rating\n",
        "def min_max_norm_plusone(df):\n",
        "  min = df.min()\n",
        "  max = df.max()\n",
        "  return df.apply(lambda x: (x-min)/(max-min)+1)\n",
        "\n",
        "df_grievance_relevant[\"norm_mean_rating\"] = min_max_norm_plusone(df_grievance_relevant.loc[:, \"mean_rating\"])\n",
        "df_grievance_relevant[\"norm_mean_rating\"].head(5)"
      ]
    },
    {
      "cell_type": "code",
      "execution_count": null,
      "metadata": {
        "colab": {
          "base_uri": "https://localhost:8080/"
        },
        "id": "xe57NKUAsAK5",
        "outputId": "7aa5d885-6c57-4db9-ff13-3c6fe0d74bce"
      },
      "outputs": [
        {
          "data": {
            "text/plain": [
              "0     22.559814\n",
              "1     25.112195\n",
              "2      8.500000\n",
              "3    106.706794\n",
              "4     57.645985\n",
              "Name: violence_score, dtype: float64"
            ]
          },
          "execution_count": 30,
          "metadata": {},
          "output_type": "execute_result"
        }
      ],
      "source": [
        "# Function which measures general violence\n",
        "def general_violence(tokenized_plot, grievance_dictionary):\n",
        "  violence_score = 0\n",
        "  for word in grievance_dictionary[\"word\"].unique():\n",
        "    if word in tokenized_plot:\n",
        "      violence_score += grievance_dictionary[grievance_dictionary[\"word\"] == word][\"mean_rating\"].mean()\n",
        "  return violence_score\n",
        "\n",
        "imdb_data[\"violence_score\"] = imdb_data[\"tokenized_plot_summary\"].apply(lambda x: general_violence(x, df_grievance_relevant))\n",
        "imdb_data[\"violence_score\"].head(5)"
      ]
    },
    {
      "cell_type": "code",
      "execution_count": null,
      "metadata": {
        "colab": {
          "base_uri": "https://localhost:8080/"
        },
        "id": "bLa3zdHgsy5Z",
        "outputId": "bb61d36b-700f-4602-d437-28052b8ecb14"
      },
      "outputs": [
        {
          "data": {
            "text/plain": [
              "0    [(instrument, 7.71428571428571), (watch, 7.512...\n",
              "1    [(extrem, 8.955555555555556), (shot, 8.6444444...\n",
              "2                                    [(american, 8.5)]\n",
              "3    [(armi, 9.445454545454545), (nation, 8.9375), ...\n",
              "4    [(pistol, 9.208333333333334), (ignor, 8.375), ...\n",
              "Name: violence_manifestations, dtype: object"
            ]
          },
          "execution_count": 33,
          "metadata": {},
          "output_type": "execute_result"
        }
      ],
      "source": [
        "# Function which inferes top-k manifestation of violence\n",
        "def violence_manifestation(tokenized_plot, grievance_dictionary, k):\n",
        "  violent_words = dict()\n",
        "  for word in grievance_dictionary[\"word\"].unique():\n",
        "    if word in tokenized_plot:\n",
        "      violent_words[word] = grievance_dictionary[grievance_dictionary[\"word\"] == word][\"mean_rating\"].mean()\n",
        "  sorted_violent_words = sorted(violent_words.items(), key=lambda x: x[1], reverse = True)\n",
        "  return list(sorted_violent_words)[:k]\n",
        "\n",
        "imdb_data[\"violence_manifestations\"] = imdb_data[\"tokenized_plot_summary\"].apply(lambda x: violence_manifestation(x, df_grievance_relevant, 3))\n",
        "imdb_data[\"violence_manifestations\"].head(5)"
      ]
    },
    {
      "cell_type": "markdown",
      "metadata": {
        "id": "MGLtBew_sAuV"
      },
      "source": [
        "## Idk whats below "
      ]
    },
    {
      "cell_type": "code",
      "execution_count": null,
      "metadata": {
        "colab": {
          "base_uri": "https://localhost:8080/",
          "height": 204
        },
        "id": "6YUY6vnED75F",
        "outputId": "6bdf47af-4e6d-4760-a203-aa6a2c170897"
      },
      "outputs": [
        {
          "data": {
            "text/html": [
              "\n",
              "  <div id=\"df-1c5bad6a-b03d-4c0e-9d80-057159e10126\">\n",
              "    <div class=\"colab-df-container\">\n",
              "      <div>\n",
              "<style scoped>\n",
              "    .dataframe tbody tr th:only-of-type {\n",
              "        vertical-align: middle;\n",
              "    }\n",
              "\n",
              "    .dataframe tbody tr th {\n",
              "        vertical-align: top;\n",
              "    }\n",
              "\n",
              "    .dataframe thead th {\n",
              "        text-align: right;\n",
              "    }\n",
              "</style>\n",
              "<table border=\"1\" class=\"dataframe\">\n",
              "  <thead>\n",
              "    <tr style=\"text-align: right;\">\n",
              "      <th></th>\n",
              "      <th>0</th>\n",
              "      <th>1</th>\n",
              "      <th>2</th>\n",
              "    </tr>\n",
              "  </thead>\n",
              "  <tbody>\n",
              "    <tr>\n",
              "      <th>0</th>\n",
              "      <td>NaN</td>\n",
              "      <td>year</td>\n",
              "      <td>value</td>\n",
              "    </tr>\n",
              "    <tr>\n",
              "      <th>1</th>\n",
              "      <td>0.0</td>\n",
              "      <td>1913</td>\n",
              "      <td>9.883333333333335</td>\n",
              "    </tr>\n",
              "    <tr>\n",
              "      <th>2</th>\n",
              "      <td>1.0</td>\n",
              "      <td>1914</td>\n",
              "      <td>10.016666666666667</td>\n",
              "    </tr>\n",
              "    <tr>\n",
              "      <th>3</th>\n",
              "      <td>2.0</td>\n",
              "      <td>1915</td>\n",
              "      <td>10.108333333333333</td>\n",
              "    </tr>\n",
              "    <tr>\n",
              "      <th>4</th>\n",
              "      <td>3.0</td>\n",
              "      <td>1916</td>\n",
              "      <td>10.883333333333333</td>\n",
              "    </tr>\n",
              "  </tbody>\n",
              "</table>\n",
              "</div>\n",
              "      <button class=\"colab-df-convert\" onclick=\"convertToInteractive('df-1c5bad6a-b03d-4c0e-9d80-057159e10126')\"\n",
              "              title=\"Convert this dataframe to an interactive table.\"\n",
              "              style=\"display:none;\">\n",
              "        \n",
              "  <svg xmlns=\"http://www.w3.org/2000/svg\" height=\"24px\"viewBox=\"0 0 24 24\"\n",
              "       width=\"24px\">\n",
              "    <path d=\"M0 0h24v24H0V0z\" fill=\"none\"/>\n",
              "    <path d=\"M18.56 5.44l.94 2.06.94-2.06 2.06-.94-2.06-.94-.94-2.06-.94 2.06-2.06.94zm-11 1L8.5 8.5l.94-2.06 2.06-.94-2.06-.94L8.5 2.5l-.94 2.06-2.06.94zm10 10l.94 2.06.94-2.06 2.06-.94-2.06-.94-.94-2.06-.94 2.06-2.06.94z\"/><path d=\"M17.41 7.96l-1.37-1.37c-.4-.4-.92-.59-1.43-.59-.52 0-1.04.2-1.43.59L10.3 9.45l-7.72 7.72c-.78.78-.78 2.05 0 2.83L4 21.41c.39.39.9.59 1.41.59.51 0 1.02-.2 1.41-.59l7.78-7.78 2.81-2.81c.8-.78.8-2.07 0-2.86zM5.41 20L4 18.59l7.72-7.72 1.47 1.35L5.41 20z\"/>\n",
              "  </svg>\n",
              "      </button>\n",
              "      \n",
              "  <style>\n",
              "    .colab-df-container {\n",
              "      display:flex;\n",
              "      flex-wrap:wrap;\n",
              "      gap: 12px;\n",
              "    }\n",
              "\n",
              "    .colab-df-convert {\n",
              "      background-color: #E8F0FE;\n",
              "      border: none;\n",
              "      border-radius: 50%;\n",
              "      cursor: pointer;\n",
              "      display: none;\n",
              "      fill: #1967D2;\n",
              "      height: 32px;\n",
              "      padding: 0 0 0 0;\n",
              "      width: 32px;\n",
              "    }\n",
              "\n",
              "    .colab-df-convert:hover {\n",
              "      background-color: #E2EBFA;\n",
              "      box-shadow: 0px 1px 2px rgba(60, 64, 67, 0.3), 0px 1px 3px 1px rgba(60, 64, 67, 0.15);\n",
              "      fill: #174EA6;\n",
              "    }\n",
              "\n",
              "    [theme=dark] .colab-df-convert {\n",
              "      background-color: #3B4455;\n",
              "      fill: #D2E3FC;\n",
              "    }\n",
              "\n",
              "    [theme=dark] .colab-df-convert:hover {\n",
              "      background-color: #434B5C;\n",
              "      box-shadow: 0px 1px 3px 1px rgba(0, 0, 0, 0.15);\n",
              "      filter: drop-shadow(0px 1px 2px rgba(0, 0, 0, 0.3));\n",
              "      fill: #FFFFFF;\n",
              "    }\n",
              "  </style>\n",
              "\n",
              "      <script>\n",
              "        const buttonEl =\n",
              "          document.querySelector('#df-1c5bad6a-b03d-4c0e-9d80-057159e10126 button.colab-df-convert');\n",
              "        buttonEl.style.display =\n",
              "          google.colab.kernel.accessAllowed ? 'block' : 'none';\n",
              "\n",
              "        async function convertToInteractive(key) {\n",
              "          const element = document.querySelector('#df-1c5bad6a-b03d-4c0e-9d80-057159e10126');\n",
              "          const dataTable =\n",
              "            await google.colab.kernel.invokeFunction('convertToInteractive',\n",
              "                                                     [key], {});\n",
              "          if (!dataTable) return;\n",
              "\n",
              "          const docLinkHtml = 'Like what you see? Visit the ' +\n",
              "            '<a target=\"_blank\" href=https://colab.research.google.com/notebooks/data_table.ipynb>data table notebook</a>'\n",
              "            + ' to learn more about interactive tables.';\n",
              "          element.innerHTML = '';\n",
              "          dataTable['output_type'] = 'display_data';\n",
              "          await google.colab.output.renderOutput(dataTable, element);\n",
              "          const docLink = document.createElement('div');\n",
              "          docLink.innerHTML = docLinkHtml;\n",
              "          element.appendChild(docLink);\n",
              "        }\n",
              "      </script>\n",
              "    </div>\n",
              "  </div>\n",
              "  "
            ],
            "text/plain": [
              "     0     1                   2\n",
              "0  NaN  year               value\n",
              "1  0.0  1913   9.883333333333335\n",
              "2  1.0  1914  10.016666666666667\n",
              "3  2.0  1915  10.108333333333333\n",
              "4  3.0  1916  10.883333333333333"
            ]
          },
          "execution_count": 15,
          "metadata": {},
          "output_type": "execute_result"
        }
      ],
      "source": [
        "\n"
      ]
    },
    {
      "cell_type": "code",
      "execution_count": null,
      "metadata": {
        "id": "YhCICP4wFHar"
      },
      "outputs": [],
      "source": [
        "characte_df_noisy = pd.read_csv(data_folder + character_metadata_fn, sep='\\t', header=None)\n",
        "characte_df_noisy.head()"
      ]
    },
    {
      "cell_type": "code",
      "execution_count": null,
      "metadata": {
        "id": "ZAbb62NOr5Ki"
      },
      "outputs": [],
      "source": []
    },
    {
      "cell_type": "markdown",
      "metadata": {
        "id": "JIDnZSGGlxmB"
      },
      "source": [
        "### 3. Answering the questions (Milestone 3)"
      ]
    }
  ],
  "metadata": {
    "colab": {
      "provenance": []
    },
    "kernelspec": {
      "display_name": "Python 3.6.13 ('ml')",
      "language": "python",
      "name": "python3"
    },
    "language_info": {
      "codemirror_mode": {
        "name": "ipython",
        "version": 3
      },
      "file_extension": ".py",
      "mimetype": "text/x-python",
      "name": "python",
      "nbconvert_exporter": "python",
      "pygments_lexer": "ipython3",
      "version": "3.6.13"
    },
    "vscode": {
      "interpreter": {
        "hash": "f209b9d80dc1c7a3468ae4a4f403b2cf581bb5f9884a2eacfe87a9831e20dba8"
      }
    }
  },
  "nbformat": 4,
  "nbformat_minor": 0
}
